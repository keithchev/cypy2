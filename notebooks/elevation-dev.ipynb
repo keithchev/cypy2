{
 "cells": [
  {
   "cell_type": "markdown",
   "metadata": {},
   "source": [
    "### Adding elevation data to trajectories from NED13 tiles"
   ]
  },
  {
   "cell_type": "markdown",
   "metadata": {},
   "source": [
    "Creating the cypy2env:\n",
    "\n",
    "`conda create -n cypyenv -c conda-forge python=3.7 psycopg2 rasterio pandas ipykernel scipy geopy seaborn`\n",
    "\n",
    "Then, use pip to install matplotlib, fitparse, and gitpython."
   ]
  },
  {
   "cell_type": "code",
   "execution_count": null,
   "metadata": {},
   "outputs": [],
   "source": [
    "import os\n",
    "import re\n",
    "import sys\n",
    "import glob\n",
    "import time\n",
    "import json\n",
    "import pickle\n",
    "import datetime\n",
    "import psycopg2\n",
    "import subprocess\n",
    "import rasterio\n",
    "\n",
    "import geopy\n",
    "import numpy as np\n",
    "import pandas as pd\n",
    "import seaborn as sns\n",
    "\n",
    "from psycopg2 import sql\n",
    "from scipy import interpolate\n",
    "\n",
    "import matplotlib as mpl\n",
    "from matplotlib import pyplot as plt"
   ]
  },
  {
   "cell_type": "code",
   "execution_count": null,
   "metadata": {},
   "outputs": [],
   "source": [
    "import rasterio.warp\n",
    "import rasterio.windows\n",
    "import rasterio.enums\n",
    "import rasterio.merge\n",
    "import geopy.distance"
   ]
  },
  {
   "cell_type": "code",
   "execution_count": null,
   "metadata": {},
   "outputs": [],
   "source": [
    "from cycler import cycler\n",
    "red, blue, green, purple, orange, yellow, brown, pink, gray  = sns.color_palette('Set1')\n",
    "mpl.rcParams['axes.prop_cycle'] = cycler(color=[blue, orange, green, red, brown, gray])"
   ]
  },
  {
   "cell_type": "code",
   "execution_count": null,
   "metadata": {},
   "outputs": [],
   "source": [
    "%matplotlib \n",
    "%load_ext autoreload\n",
    "%autoreload 2"
   ]
  },
  {
   "cell_type": "code",
   "execution_count": null,
   "metadata": {},
   "outputs": [],
   "source": [
    "sys.path.insert(0, '../../dbutils/')\n",
    "import dbutils\n",
    "\n",
    "sys.path.insert(0, '../')\n",
    "import cypy2\n",
    "\n",
    "colors = sns.color_palette()\n",
    "\n",
    "root = '/home/keith/Downloads/export_7989839-1'\n",
    "wahoo_example = '2326365683.fit.gz'\n",
    "garmin_example = '2122584483.fit.gz'\n",
    "garmin_indoor_example = '2324139976.fit.gz'"
   ]
  },
  {
   "cell_type": "code",
   "execution_count": null,
   "metadata": {},
   "outputs": [],
   "source": [
    "user, host = 'keith', 'localhost'"
   ]
  },
  {
   "cell_type": "markdown",
   "metadata": {},
   "source": [
    "### cypy2 database"
   ]
  },
  {
   "cell_type": "code",
   "execution_count": null,
   "metadata": {},
   "outputs": [],
   "source": [
    "# bear creek - happy valley loop from December 2018\n",
    "activity_id = '20181208223529'\n",
    "\n",
    "conn = psycopg2.connect(user=user, host=host, dbname='cypy2')\n",
    "a = cypy2.Activity.from_db(conn, activity_id, kind='processed')"
   ]
  },
  {
   "cell_type": "code",
   "execution_count": null,
   "metadata": {},
   "outputs": [],
   "source": [
    "d = dbutils.execute_query(\n",
    "    conn,\n",
    "    'select ST_AsGeoJSON(ST_Simplify(geom, .0005)) from proc_records where activity_id = %s',\n",
    "    activity_id)"
   ]
  },
  {
   "cell_type": "code",
   "execution_count": null,
   "metadata": {},
   "outputs": [],
   "source": [
    "acoords = np.array(json.loads(d[0][0])['coordinates'])"
   ]
  },
  {
   "cell_type": "code",
   "execution_count": null,
   "metadata": {},
   "outputs": [],
   "source": [
    "plt.plot(acoords[:, 0], acoords[:, 1])"
   ]
  },
  {
   "cell_type": "markdown",
   "metadata": {},
   "source": [
    "### Find OSM roads that are traversed by a given trajectory\n",
    "\n",
    "This database is created by `strava/osm_to_pgsql.sh`."
   ]
  },
  {
   "cell_type": "code",
   "execution_count": null,
   "metadata": {},
   "outputs": [],
   "source": [
    "conn = psycopg2.connect(user=user, host=host, dbname='osm_roads')"
   ]
  },
  {
   "cell_type": "code",
   "execution_count": null,
   "metadata": {},
   "outputs": [],
   "source": [
    "# bounding box for the test activity's trajectory\n",
    "acoords.min(axis=0), acoords.max(axis=0)"
   ]
  },
  {
   "cell_type": "code",
   "execution_count": null,
   "metadata": {},
   "outputs": [],
   "source": [
    "# find the road closest to each point along the activity's trajectory\n",
    "query = '''\n",
    "    select osm_id, name, ST_Distance(geom, ST_SetSRID(ST_MakePoint(%s, %s), 4326)) dist \n",
    "    from roads where name is not null\n",
    "    and ST_Intersects(ST_MakeEnvelope(-122.3, 37.86, -122.15, 37.923, 4326), geom)\n",
    "    order by dist limit 1'''\n",
    "\n",
    "names, ids = [], []\n",
    "for point in acoords:\n",
    "    d = pd.read_sql(query % tuple(point[:2]), conn)\n",
    "    names.append(d.iloc[0]['name'])\n",
    "    ids.append(d.iloc[0].osm_id)"
   ]
  },
  {
   "cell_type": "code",
   "execution_count": null,
   "metadata": {},
   "outputs": [],
   "source": [
    "# plot the trajectory and the name of the closest road at each point\n",
    "fig, ax = plt.subplots()\n",
    "ax.plot(acoords[:, 0], acoords[:, 1])\n",
    "for point, name in zip(acoords, names):\n",
    "     ax.annotate(name.split(' ')[0], (point[0], point[1]))"
   ]
  },
  {
   "cell_type": "code",
   "execution_count": null,
   "metadata": {},
   "outputs": [],
   "source": [
    "# get the geometries of all of the closest roads\n",
    "# (code < 5130 corresponds to major/minor roads)\n",
    "query = '''\n",
    "    select 'id' id, ST_AsGeoJSON(ST_Collect(geom))\n",
    "    from (select * from roads where osm_id in %s) temp\n",
    "    WHERE name is not null and code < 5130'''\n",
    "d = dbutils.execute_query(conn, query, (tuple(ids),))"
   ]
  },
  {
   "cell_type": "code",
   "execution_count": null,
   "metadata": {},
   "outputs": [],
   "source": [
    "# plot all of the closest roads\n",
    "geoms =  json.loads(d[0][1])\n",
    "for geom in geoms['geometries']:\n",
    "    coords = np.array(geom['coordinates'][0])\n",
    "    plt.plot(coords[:, 0], coords[:, 1], marker='')\n",
    "    \n",
    "plt.scatter(acoords[:, 0], acoords[:, 1], color='gray')"
   ]
  },
  {
   "cell_type": "markdown",
   "metadata": {},
   "source": [
    "### Database of Strava routes from GPX files"
   ]
  },
  {
   "cell_type": "code",
   "execution_count": null,
   "metadata": {},
   "outputs": [],
   "source": [
    "conn = psycopg2.connect(user=user, host=host, dbname='routes')"
   ]
  },
  {
   "cell_type": "code",
   "execution_count": null,
   "metadata": {},
   "outputs": [],
   "source": [
    "# populate the database\n",
    "from cypy2.strava import strava_routes_to_pgsql\n",
    "filenames = glob.glob('/home/keith/Downloads/export_7989839-1/routes/*.gpx')\n",
    "strava_routes_to_pgsql.insert_routes(conn, 'routes', filenames)"
   ]
  },
  {
   "cell_type": "code",
   "execution_count": null,
   "metadata": {},
   "outputs": [],
   "source": [
    "# metadata from tracks table\n",
    "d = pd.read_sql('''\n",
    "    select track_id, type, name, ST_AsGeoJSON(ST_Simplify(geom, .001)) geom from tracks \n",
    "    where name like \\'%King%\\'''', conn)\n",
    "d"
   ]
  },
  {
   "cell_type": "code",
   "execution_count": null,
   "metadata": {},
   "outputs": [],
   "source": [
    "# coords for the King Ridge loop from the track_points table\n",
    "d = pd.read_sql('''\n",
    "    select track_id, ele, ST_AsGeoJSON(geom) as geom \n",
    "    from track_points where track_id = 344 order by point_order''', conn)\n",
    "\n",
    "d['lon'] = [json.loads(geom)['coordinates'][0] for geom in d.geom]\n",
    "d['lat'] = [json.loads(geom)['coordinates'][1] for geom in d.geom]\n",
    "\n",
    "d.drop('geom', axis=1, inplace=True)\n",
    "strava_route = d\n",
    "d.head()"
   ]
  },
  {
   "cell_type": "code",
   "execution_count": null,
   "metadata": {},
   "outputs": [],
   "source": [
    "# coords from geom column\n",
    "plt.scatter(d.lon, d.lat)"
   ]
  },
  {
   "cell_type": "markdown",
   "metadata": {},
   "source": [
    "### Interpolating Strava routes by distance"
   ]
  },
  {
   "cell_type": "code",
   "execution_count": null,
   "metadata": {},
   "outputs": [],
   "source": [
    "lat, lon = strava_route.lat.values, strava_route.lon.values"
   ]
  },
  {
   "cell_type": "code",
   "execution_count": null,
   "metadata": {},
   "outputs": [],
   "source": [
    "# distance between adjacent coordinates\n",
    "dists = [0]\n",
    "for ind in np.arange(1, lat.shape[0]):\n",
    "    dist = geopy.distance.distance(\n",
    "        (lat[ind-1], lon[ind-1]), \n",
    "        (lat[ind], lon[ind]))\n",
    "    dists.append(dist.meters)\n",
    "\n",
    "strava_route['dist'] = np.cumsum(dists)"
   ]
  },
  {
   "cell_type": "code",
   "execution_count": null,
   "metadata": {},
   "outputs": [],
   "source": [
    "plt.scatter(lat, lon, s=np.array(dists)**2/100)"
   ]
  },
  {
   "cell_type": "code",
   "execution_count": null,
   "metadata": {},
   "outputs": [],
   "source": [
    "# the distances are all between 8m and 100m \n",
    "# (while there appears to be a hard cut-off at 100m,\n",
    "# the 8m is not a hard cut-off and is likely due to the tolerance in the rdp algorithm)\n",
    "_ = plt.hist(dists, bins=300)"
   ]
  },
  {
   "cell_type": "code",
   "execution_count": null,
   "metadata": {},
   "outputs": [],
   "source": [
    "# interpolate lat/lon coords by distance (which is approximately by arc length)\n",
    "f = interpolate.interp1d(strava_route.dist.values, strava_route[['lat', 'lon']].values, axis=0, kind='cubic')\n",
    "latlon = f(np.arange(0, strava_route.dist.max(), 10))"
   ]
  },
  {
   "cell_type": "code",
   "execution_count": null,
   "metadata": {},
   "outputs": [],
   "source": [
    "plt.scatter(lat, lon, s=30)\n",
    "plt.plot(latlon[:, 0], latlon[:, 1])"
   ]
  },
  {
   "cell_type": "code",
   "execution_count": null,
   "metadata": {},
   "outputs": [],
   "source": [
    "dists = []\n",
    "for ind in np.arange(1, vals_int.shape[0]):\n",
    "    dists.append(geopy.distance.distance(latlon[ind-1, :], latlon[ind, :]).meters)\n",
    "dists = np.array(dists)"
   ]
  },
  {
   "cell_type": "code",
   "execution_count": null,
   "metadata": {},
   "outputs": [],
   "source": [
    "plt.hist(dists, bins=np.arange(9, 11, .01))"
   ]
  },
  {
   "cell_type": "code",
   "execution_count": null,
   "metadata": {},
   "outputs": [],
   "source": [
    "# these large jumps in the interpolated coordinates \n",
    "# are associated with tiny but sharp loops in the original track\n",
    "# (due, in at least one case, to a waypoint being placed \n",
    "# on the wrong side of the road in the strava route builder)\n",
    "np.argwhere(np.array(dists) > 15)"
   ]
  },
  {
   "cell_type": "markdown",
   "metadata": {},
   "source": [
    "### Looking up elevations from NED13 tiles"
   ]
  },
  {
   "cell_type": "code",
   "execution_count": null,
   "metadata": {},
   "outputs": [],
   "source": [
    "src = rasterio.open(source_path)"
   ]
  },
  {
   "cell_type": "code",
   "execution_count": null,
   "metadata": {},
   "outputs": [],
   "source": [
    "src.index(-122.59, 36.92), ~src.transform * (-122.59, 36.92)"
   ]
  },
  {
   "cell_type": "code",
   "execution_count": null,
   "metadata": {},
   "outputs": [],
   "source": [
    "px, py = src.index(*tam)\n",
    "\n",
    "(\n",
    "# lon/lat of the pixel's top left corner\n",
    "src.transform * (py, px), \n",
    "\n",
    "# lon/lat of the pixel's bottom right corner\n",
    "src.transform * (py + 1, px + 1)\n",
    ")"
   ]
  },
  {
   "cell_type": "code",
   "execution_count": null,
   "metadata": {},
   "outputs": [],
   "source": [
    "res = 9.2592592593e-05\n",
    "\n",
    "# lon/lat of the point at which to interpolate the elevation\n",
    "tam = np.array([-122.59685, 37.92301])\n",
    "tam_east = np.array([-122.5777, 37.9290])\n",
    "home = [-122.4293, 37.7604]\n",
    "\n",
    "def interp_elevation(src, point, kind='linear', sz=1):\n",
    "    \n",
    "    if kind is None:\n",
    "        sz = 0\n",
    "    elif kind=='linear':\n",
    "        sz = 1\n",
    "    elif kind=='cubic':\n",
    "        sz = max(2, sz)\n",
    "    else:\n",
    "        raise ValueError('Invalid value for kind')\n",
    "\n",
    "    # row/column of the pixel containing the point\n",
    "    row, col = src.index(*point)\n",
    "\n",
    "    window = rasterio.windows.Window(col - sz, row - sz, 2*sz + 1, 2*sz + 1)\n",
    "    z = src.read(window=window, masked=False)[0]\n",
    "\n",
    "    if kind is None:\n",
    "        z_int = z[0][0]\n",
    "    else:\n",
    "        # lon/lat of the top left corner of the pixel at row, col\n",
    "        px_lon, px_lat = src.transform * (col, row)\n",
    "\n",
    "        # coordinates of the centers of the window pixels\n",
    "        # (note that lats are negative because interp2d requires\n",
    "        # that coordinates be strictly increasing)\n",
    "        x = np.arange(-sz, sz + 1) * res + px_lon + res/2\n",
    "        y = -(px_lat - np.arange(-sz, sz + 1) * res) + res/2\n",
    "\n",
    "        # note: do not flatten z before passing to interp2d!\n",
    "        # for some reason, the interpolated values change (and are incorrect)\n",
    "        f = interpolate.interp2d(x, y, z, kind=kind, bounds_error=True)\n",
    "        z_int = f(point[0], -point[1])\n",
    "    \n",
    "    return z_int"
   ]
  },
  {
   "cell_type": "code",
   "execution_count": null,
   "metadata": {},
   "outputs": [],
   "source": [
    "interp_elevation(src, (-122.4471, 37.7546), kind=None, sz=3)*3.2808"
   ]
  },
  {
   "cell_type": "code",
   "execution_count": null,
   "metadata": {},
   "outputs": [],
   "source": [
    "steps = np.arange(0, res*10, res/3)[:, None]\n",
    "points = np.hstack((steps*0 + tam[0], steps + tam[1]))"
   ]
  },
  {
   "cell_type": "code",
   "execution_count": null,
   "metadata": {},
   "outputs": [],
   "source": [
    "# check that interpolation is working as we expect it to\n",
    "plt.plot([interp_elevation(src, point, kind=None) for point in points])\n",
    "plt.plot([interp_elevation(src, point, kind='linear') for point in points])"
   ]
  },
  {
   "cell_type": "code",
   "execution_count": null,
   "metadata": {},
   "outputs": [],
   "source": [
    "source_path = '/home/keith/raster-data/NED13/n38w123/grdn38w123_13/w001001.adf'\n",
    "# source_path = '/media/keith/USGS_Backup/USGS/NED13/n38w119/grdn38w119_13/w001001.adf'\n",
    "\n",
    "strava_route['ned13_raw'] = None\n",
    "strava_route['ned13_int'] = None\n",
    "with rasterio.open(source_path) as src:\n",
    "    for ind, row in strava_route.iterrows():\n",
    "        point = (row.lon, row.lat)\n",
    "        strava_route.at[ind, 'ned13_int'] = interp_elevation(src, point, sz=3)\n",
    "        strava_route.at[ind, 'ned13_raw'] = [v for v in src.sample([point], indexes=src.indexes)][0]"
   ]
  },
  {
   "cell_type": "markdown",
   "metadata": {},
   "source": [
    "### Compare our elevations to Strava's elevations)"
   ]
  },
  {
   "cell_type": "code",
   "execution_count": null,
   "metadata": {},
   "outputs": [],
   "source": [
    "plt.plot(strava_route.ned13_int.values.astype(float))\n",
    "plt.plot(np.convolve(strava_route.ned13_int.values.astype(float), np.ones(5)/5, 'same'))\n",
    "plt.plot(strava_route.ele.values.astype(float))"
   ]
  },
  {
   "cell_type": "code",
   "execution_count": null,
   "metadata": {},
   "outputs": [],
   "source": [
    "# the resolution in meters of the NED13 tiles near SF\n",
    "x = rasterio.warp.transform('EPSG:4269', 'EPSG:3857', [-122.5 + res, -122.5], [37.7, 37.7 + res])\n",
    "np.diff(x[0]), np.diff(x[1])"
   ]
  },
  {
   "cell_type": "markdown",
   "metadata": {},
   "source": [
    "### Merging NED13 tiles \n",
    "For trajectories not contained within single tiles.\n",
    "\n",
    "\n",
    "Aside: NED13 tiles are about 70 miles by 90 miles."
   ]
  },
  {
   "cell_type": "code",
   "execution_count": null,
   "metadata": {},
   "outputs": [],
   "source": [
    "glob.glob('/home/keith/raster-data/NED13/*')"
   ]
  },
  {
   "cell_type": "code",
   "execution_count": null,
   "metadata": {},
   "outputs": [],
   "source": [
    "def tilepath(position):\n",
    "    lat, lon = position\n",
    "    lon = np.abs(lon)\n",
    "    path = os.path.join('n%dw%d' % (lat, lon), 'grdn%dw%d_13' % (lat, lon))\n",
    "    return path"
   ]
  },
  {
   "cell_type": "code",
   "execution_count": null,
   "metadata": {},
   "outputs": [],
   "source": [
    "root = '/home/keith/raster-data/NED13/'\n",
    "tiles = [(38, 122), (38, 123), (39, 123), (39, 124)]\n",
    "paths = [tilepath(tile) for tile in tiles]"
   ]
  },
  {
   "cell_type": "code",
   "execution_count": null,
   "metadata": {},
   "outputs": [],
   "source": [
    "datasets = [rasterio.open(os.path.join(root, path)) for path in paths]"
   ]
  },
  {
   "cell_type": "code",
   "execution_count": null,
   "metadata": {},
   "outputs": [],
   "source": [
    "# bounds are from King Ridge route\n",
    "mosaic, mosaic_transform = rasterio.merge.merge(\n",
    "    datasets, \n",
    "    nodata=0,    \n",
    "    bounds=(-123.31, 38.4, -122.94, 38.63))"
   ]
  },
  {
   "cell_type": "code",
   "execution_count": null,
   "metadata": {},
   "outputs": [],
   "source": [
    "~mosaic_transform * (-123.31, 38.63)"
   ]
  },
  {
   "cell_type": "code",
   "execution_count": null,
   "metadata": {},
   "outputs": [],
   "source": [
    "plt.imshow(mosaic[0].astype(float))"
   ]
  },
  {
   "cell_type": "code",
   "execution_count": null,
   "metadata": {},
   "outputs": [],
   "source": [
    "# NED13 resolution in meters\n",
    "res = 9.2592592593e-05\n",
    "x, y = rasterio.warp.transform('EPSG:4326', 'EPSG:3857', [-122, -122 + res], [38, 38 + res])\n",
    "[round(val, 2) for val in (x[1] - x[0], y[1] - y[0])]"
   ]
  },
  {
   "cell_type": "code",
   "execution_count": null,
   "metadata": {},
   "outputs": [],
   "source": [
    "# NED13 tile size in miles\n",
    "x, y = rasterio.warp.transform('EPSG:4326', 'EPSG:3857', [-122, -121], [38, 39])\n",
    "[round(val/1000 * .62) for val in (x[1] - x[0], y[1] - y[0])]"
   ]
  },
  {
   "cell_type": "code",
   "execution_count": null,
   "metadata": {},
   "outputs": [],
   "source": []
  },
  {
   "cell_type": "code",
   "execution_count": null,
   "metadata": {},
   "outputs": [],
   "source": []
  }
 ],
 "metadata": {
  "kernelspec": {
   "display_name": "cypyenv",
   "language": "python",
   "name": "cypyenv"
  },
  "language_info": {
   "codemirror_mode": {
    "name": "ipython",
    "version": 3
   },
   "file_extension": ".py",
   "mimetype": "text/x-python",
   "name": "python",
   "nbconvert_exporter": "python",
   "pygments_lexer": "ipython3",
   "version": "3.7.3"
  }
 },
 "nbformat": 4,
 "nbformat_minor": 2
}
