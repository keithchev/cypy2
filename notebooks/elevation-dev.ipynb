{
 "cells": [
  {
   "cell_type": "markdown",
   "metadata": {},
   "source": [
    "### Adding elevation data to trajectories from NED13 tiles"
   ]
  },
  {
   "cell_type": "markdown",
   "metadata": {},
   "source": [
    "Creating the cypy2env:\n",
    "\n",
    "`conda create -n cypyenv -c conda-forge python=3.7 psycopg2 rasterio pandas ipykernel scipy geopy seaborn`\n",
    "\n",
    "Then, use pip to install matplotlib, fitparse, and gitpython."
   ]
  },
  {
   "cell_type": "code",
   "execution_count": null,
   "metadata": {},
   "outputs": [],
   "source": [
    "import os\n",
    "import re\n",
    "import sys\n",
    "import glob\n",
    "import time\n",
    "import json\n",
    "import pickle\n",
    "import datetime\n",
    "import psycopg2\n",
    "import subprocess\n",
    "import rasterio\n",
    "\n",
    "import geopy\n",
    "import numpy as np\n",
    "import pandas as pd\n",
    "import seaborn as sns\n",
    "\n",
    "from psycopg2 import sql\n",
    "from scipy import interpolate\n",
    "\n",
    "import matplotlib as mpl\n",
    "from matplotlib import pyplot as plt"
   ]
  },
  {
   "cell_type": "code",
   "execution_count": null,
   "metadata": {},
   "outputs": [],
   "source": [
    "import rasterio.warp\n",
    "import rasterio.windows\n",
    "import rasterio.enums\n",
    "import geopy.distance"
   ]
  },
  {
   "cell_type": "code",
   "execution_count": null,
   "metadata": {},
   "outputs": [],
   "source": [
    "from cycler import cycler\n",
    "red, blue, green, purple, orange, yellow, brown, pink, gray  = sns.color_palette('Set1')\n",
    "mpl.rcParams['axes.prop_cycle'] = cycler(color=[blue, orange, green, red, brown, gray])"
   ]
  },
  {
   "cell_type": "code",
   "execution_count": null,
   "metadata": {},
   "outputs": [],
   "source": [
    "%matplotlib \n",
    "%load_ext autoreload\n",
    "%autoreload 2"
   ]
  },
  {
   "cell_type": "code",
   "execution_count": null,
   "metadata": {},
   "outputs": [],
   "source": [
    "sys.path.insert(0, '../../dbutils/')\n",
    "import dbutils\n",
    "\n",
    "sys.path.insert(0, '../')\n",
    "import cypy2\n",
    "\n",
    "colors = sns.color_palette()\n",
    "\n",
    "root = '/home/keith/Downloads/export_7989839-1'\n",
    "wahoo_example = '2326365683.fit.gz'\n",
    "garmin_example = '2122584483.fit.gz'\n",
    "garmin_indoor_example = '2324139976.fit.gz'"
   ]
  },
  {
   "cell_type": "markdown",
   "metadata": {},
   "source": [
    "### Connect to OSM roads database\n",
    "\n",
    "This database is created/populated by `strava/osm_to_pgsql.sh`."
   ]
  },
  {
   "cell_type": "code",
   "execution_count": null,
   "metadata": {},
   "outputs": [],
   "source": [
    "user = 'keith'\n",
    "host = 'localhost'\n",
    "dbname = 'osm_roads'\n",
    "conn = psycopg2.connect(user=user, host=host, dbname=dbname)"
   ]
  },
  {
   "cell_type": "code",
   "execution_count": null,
   "metadata": {},
   "outputs": [],
   "source": [
    "# king ridge road\n",
    "osm_id = '7712776'\n",
    "d = dbutils.execute_query(\n",
    "    conn, \n",
    "    'select ST_AsGeoJSON(geom) from roads where osm_id = %s', osm_id)"
   ]
  },
  {
   "cell_type": "code",
   "execution_count": null,
   "metadata": {},
   "outputs": [],
   "source": [
    "d = json.loads(d[0][0])\n",
    "kr_osm_coords = np.array(d['coordinates'][0])"
   ]
  },
  {
   "cell_type": "code",
   "execution_count": null,
   "metadata": {},
   "outputs": [],
   "source": [
    "plt.scatter(coords[:, 0], coords[:, 1])"
   ]
  },
  {
   "cell_type": "markdown",
   "metadata": {},
   "source": [
    "### Creating a postGIS table of Strava routes from GPX files"
   ]
  },
  {
   "cell_type": "code",
   "execution_count": null,
   "metadata": {},
   "outputs": [],
   "source": [
    "user = 'keith'\n",
    "host = 'localhost'\n",
    "dbname = 'routes'\n",
    "conn = psycopg2.connect(user=user, host=host, dbname=dbname)"
   ]
  },
  {
   "cell_type": "code",
   "execution_count": null,
   "metadata": {},
   "outputs": [],
   "source": [
    "from cypy2.strava import strava_routes_to_pgsql"
   ]
  },
  {
   "cell_type": "code",
   "execution_count": null,
   "metadata": {},
   "outputs": [],
   "source": [
    "filenames = glob.glob('/home/keith/Downloads/export_7989839-1/routes/*.gpx')\n",
    "strava_routes_to_pgsql.insert_routes(conn, 'routes', filenames)"
   ]
  },
  {
   "cell_type": "code",
   "execution_count": null,
   "metadata": {},
   "outputs": [],
   "source": [
    "# metadata from tracks table\n",
    "d = pd.read_sql(\n",
    "    'select track_id, type, name from tracks where name like \\'%King%\\'', conn)\n",
    "d.head()"
   ]
  },
  {
   "cell_type": "code",
   "execution_count": null,
   "metadata": {},
   "outputs": [],
   "source": [
    "# coords from the track_points table\n",
    "d = pd.read_sql('''\n",
    "    select track_id, ele, ST_AsGeoJSON(geom) as geom \n",
    "    from track_points where track_id = 324 order by point_order''', conn)\n",
    "\n",
    "d['lon'] = [json.loads(geom)['coordinates'][0] for geom in d.geom]\n",
    "d['lat'] = [json.loads(geom)['coordinates'][1] for geom in d.geom]\n",
    "\n",
    "d.drop('geom', axis=1, inplace=True)\n",
    "d.head()"
   ]
  },
  {
   "cell_type": "code",
   "execution_count": null,
   "metadata": {},
   "outputs": [],
   "source": [
    "# coords from geom column\n",
    "plt.scatter(d.lon, d.lat)"
   ]
  },
  {
   "cell_type": "markdown",
   "metadata": {},
   "source": [
    "### Interpolating routes by distance"
   ]
  },
  {
   "cell_type": "code",
   "execution_count": null,
   "metadata": {},
   "outputs": [],
   "source": [
    "lat, lon = d.lat.values, d.lon.values"
   ]
  },
  {
   "cell_type": "code",
   "execution_count": null,
   "metadata": {},
   "outputs": [],
   "source": [
    "# distance between adjacent coordinates\n",
    "dists = [0]\n",
    "for ind in np.arange(1, lat.shape[0]):\n",
    "    dist = geopy.distance.distance(\n",
    "        (lat[ind-1], lon[ind-1]), \n",
    "        (lat[ind], lon[ind]))\n",
    "    dists.append(dist.meters)\n",
    "\n",
    "d['dist'] = np.cumsum(dists)"
   ]
  },
  {
   "cell_type": "code",
   "execution_count": null,
   "metadata": {},
   "outputs": [],
   "source": [
    "plt.scatter(lat, lon, s=np.array(dists)**2/100)"
   ]
  },
  {
   "cell_type": "code",
   "execution_count": null,
   "metadata": {},
   "outputs": [],
   "source": [
    "# the distances are all between 8m and 100m \n",
    "# (while there appears to be a hard cut-off at 100m,\n",
    "# the 8m is not a hard cut-off and is likely due to the tolerance in the rdp algorithm)\n",
    "plt.hist(dists, bins=300)"
   ]
  },
  {
   "cell_type": "code",
   "execution_count": null,
   "metadata": {},
   "outputs": [],
   "source": [
    "# interpolate lat/lon coords by distance (which is approximately by arc length)\n",
    "f = interpolate.interp1d(d.dist.values, d[['lat', 'lon']].values, axis=0, kind='cubic')\n",
    "latlon = f(np.arange(0, d.dist.max(), 10))"
   ]
  },
  {
   "cell_type": "code",
   "execution_count": null,
   "metadata": {},
   "outputs": [],
   "source": [
    "plt.scatter(lat, lon, s=30)\n",
    "plt.plot(latlon[:, 0], latlon[:, 1])"
   ]
  },
  {
   "cell_type": "code",
   "execution_count": null,
   "metadata": {},
   "outputs": [],
   "source": [
    "dists = []\n",
    "for ind in np.arange(1, vals_int.shape[0]):\n",
    "    dists.append(geopy.distance.distance(latlon[ind-1, :], latlon[ind, :]).meters)\n",
    "dists = np.array(dists)"
   ]
  },
  {
   "cell_type": "code",
   "execution_count": null,
   "metadata": {},
   "outputs": [],
   "source": [
    "plt.hist(dists, bins=np.arange(9, 11, .01))"
   ]
  },
  {
   "cell_type": "code",
   "execution_count": null,
   "metadata": {},
   "outputs": [],
   "source": [
    "# these large jumps in the interpolated coordinates \n",
    "# are associated with tiny but sharp loops in the original track\n",
    "# (due, in at least one case, to a waypoint being placed \n",
    "# on the wrong side of the road in the strava route builder)\n",
    "np.argwhere(np.array(dists) > 15)"
   ]
  },
  {
   "cell_type": "markdown",
   "metadata": {},
   "source": [
    "### Looking up elevations from NED13 tiles"
   ]
  },
  {
   "cell_type": "code",
   "execution_count": null,
   "metadata": {},
   "outputs": [],
   "source": [
    "src = rasterio.open(source_path)"
   ]
  },
  {
   "cell_type": "code",
   "execution_count": null,
   "metadata": {},
   "outputs": [],
   "source": [
    "px, py = src.index(*tam)\n",
    "\n",
    "(\n",
    "# lon/lat of the pixel's top left corner\n",
    "src.transform * (py, px), \n",
    "\n",
    "# lon/lat of the pixel's bottom right corner\n",
    "src.transform * (py + 1, px + 1)\n",
    ")"
   ]
  },
  {
   "cell_type": "code",
   "execution_count": null,
   "metadata": {},
   "outputs": [],
   "source": [
    "res = 9.2592592593e-05\n",
    "\n",
    "# lon/lat of the point at which to interpolate the elevation\n",
    "tam = np.array([-122.59685, 37.92301])\n",
    "\n",
    "def interp_elevation(src, point, kind='cubic', sz=2):\n",
    "\n",
    "    # row/column of the pixel containing the point\n",
    "    row, col = src.index(*point)\n",
    "\n",
    "    # lon/lat of the top left corner of this pixel\n",
    "    px_lon, px_lat = src.transform * (col, row)\n",
    "\n",
    "    # coordinates of the centers of the window pixels\n",
    "    x = np.arange(-sz, sz + 1) * res + px_lon + res/2\n",
    "    y = -(px_lat - np.arange(-sz, sz + 1) * res) + res/2\n",
    "\n",
    "    window = rasterio.windows.Window(col - sz, row - sz, 2*sz + 1, 2*sz + 1)\n",
    "    values = src.read(window=window, masked=False)\n",
    "    z = values[0]\n",
    "    \n",
    "    # note: do not flatten z before passing to interp2d!\n",
    "    # for some reason, the interpolated values change (and are incorrect)\n",
    "    return interpolate.interp2d(x, y, z, kind='cubic', bounds_error=True)(point[0], -point[1])"
   ]
  },
  {
   "cell_type": "code",
   "execution_count": null,
   "metadata": {},
   "outputs": [],
   "source": [
    "interp_elevation(src, tam)"
   ]
  },
  {
   "cell_type": "code",
   "execution_count": null,
   "metadata": {},
   "outputs": [],
   "source": [
    "plt.imshow(data[0, :, :])"
   ]
  },
  {
   "cell_type": "code",
   "execution_count": null,
   "metadata": {},
   "outputs": [],
   "source": [
    "latlon.min(axis=0), latlon.max(axis=0)"
   ]
  },
  {
   "cell_type": "code",
   "execution_count": null,
   "metadata": {},
   "outputs": [],
   "source": [
    "source_path = '/home/keith/raster-data/n38w123/grdn38w123_13/w001001.adf'\n",
    "source_path = '/media/keith/USGS_Backup/USGS/NED13/n38w119/grdn38w119_13/w001001.adf'\n",
    "d['ned13_raw'] = None\n",
    "d['ned13_int'] = None\n",
    "\n",
    "with rasterio.open(source_path) as src:\n",
    "    for ind, row in d.iterrows():\n",
    "        point = (row.lon, row.lat)\n",
    "        d.at[ind, 'ned13_int'] = interp_elevation(src, point, sz=3)\n",
    "        d.at[ind, 'ned13_raw'] = [v for v in src.sample([point], indexes=src.indexes)][0]"
   ]
  },
  {
   "cell_type": "markdown",
   "metadata": {},
   "source": [
    "### Compare our elevations to the original elevations (from Strava)"
   ]
  },
  {
   "cell_type": "code",
   "execution_count": null,
   "metadata": {},
   "outputs": [],
   "source": [
    "plt.plot(d.ned13_int.values.astype(float))\n",
    "plt.plot(np.convolve(d.ned13_int.values.astype(float), np.ones(5)/5, 'same'))\n",
    "plt.plot(d.ele.values.astype(float))"
   ]
  },
  {
   "cell_type": "code",
   "execution_count": null,
   "metadata": {},
   "outputs": [],
   "source": [
    "# the resolution in meters of the NED13 tiles near SF\n",
    "x = rasterio.warp.transform('EPSG:4269', 'EPSG:3857', [-122.5 + res, -122.5], [37.7, 37.7 + res])\n",
    "np.diff(x[0]), np.diff(x[1])"
   ]
  },
  {
   "cell_type": "code",
   "execution_count": null,
   "metadata": {},
   "outputs": [],
   "source": [
    "plt.plot(d.dist.values, d.ele.values.astype(float), marker='o')"
   ]
  },
  {
   "cell_type": "code",
   "execution_count": null,
   "metadata": {},
   "outputs": [],
   "source": []
  }
 ],
 "metadata": {
  "kernelspec": {
   "display_name": "cypyenv",
   "language": "python",
   "name": "cypyenv"
  },
  "language_info": {
   "codemirror_mode": {
    "name": "ipython",
    "version": 3
   },
   "file_extension": ".py",
   "mimetype": "text/x-python",
   "name": "python",
   "nbconvert_exporter": "python",
   "pygments_lexer": "ipython3",
   "version": "3.7.3"
  }
 },
 "nbformat": 4,
 "nbformat_minor": 2
}
