{
 "cells": [
  {
   "cell_type": "code",
   "execution_count": null,
   "metadata": {},
   "outputs": [],
   "source": [
    "import os\n",
    "import re\n",
    "import sys\n",
    "import time\n",
    "import datetime\n",
    "import psycopg2\n",
    "import numpy as np\n",
    "import pandas as pd\n",
    "\n",
    "from scipy import stats\n",
    "from matplotlib import pyplot as plt"
   ]
  },
  {
   "cell_type": "code",
   "execution_count": null,
   "metadata": {},
   "outputs": [],
   "source": [
    "%matplotlib \n",
    "%load_ext autoreload\n",
    "%autoreload 2"
   ]
  },
  {
   "cell_type": "code",
   "execution_count": null,
   "metadata": {},
   "outputs": [],
   "source": [
    "user = 'keith'\n",
    "host = 'localhost'\n",
    "dbname = 'cypy2'\n",
    "conn = psycopg2.connect(user=user, host=host, dbname=dbname)"
   ]
  },
  {
   "cell_type": "markdown",
   "metadata": {},
   "source": [
    "### Analyzing timepoints"
   ]
  },
  {
   "cell_type": "code",
   "execution_count": null,
   "metadata": {},
   "outputs": [],
   "source": [
    "d = pd.read_sql(\n",
    "    'select heart_rate, power, cadence, speed from proc_records r '\n",
    "    'left join metadata m on m.activity_id = r.activity_id '\n",
    "    'where activity_type = \\'ride\\'',\n",
    "    conn)\n",
    "d = d.dropna(axis=0, how='any')"
   ]
  },
  {
   "cell_type": "code",
   "execution_count": null,
   "metadata": {},
   "outputs": [],
   "source": [
    "d.shape"
   ]
  },
  {
   "cell_type": "code",
   "execution_count": null,
   "metadata": {},
   "outputs": [],
   "source": [
    "data = []\n",
    "for ind, column in enumerate(d.columns):\n",
    "    vals = np.concatenate(tuple(d[column].values))\n",
    "    data.append(vals)\n",
    "data = np.array(data)"
   ]
  },
  {
   "cell_type": "code",
   "execution_count": null,
   "metadata": {},
   "outputs": [],
   "source": [
    "mask = np.any(pd.isna(data), axis=0)\n",
    "data = data[:, ~mask].astype(float)"
   ]
  },
  {
   "cell_type": "code",
   "execution_count": null,
   "metadata": {},
   "outputs": [],
   "source": [
    "# for heart rate\n",
    "hr = data[0, :]\n",
    "_ = plt.hist(vals[~np.isnan(vals)], bins=np.arange(60, 190, 2))"
   ]
  },
  {
   "cell_type": "code",
   "execution_count": null,
   "metadata": {},
   "outputs": [],
   "source": [
    "# for power\n",
    "vals = data[2, :]\n",
    "_ = plt.hist(vals[~np.isnan(vals) & (vals < 500) & (vals > 0)], bins=np.arange(0, 500, 2))"
   ]
  },
  {
   "cell_type": "code",
   "execution_count": null,
   "metadata": {},
   "outputs": [],
   "source": [
    "hr = data[0, :]\n",
    "power = data[1, :]\n",
    "hr = hr[power > 0]\n",
    "power = power[power > 0]\n",
    "\n",
    "_ = plt.hist2d(hr, power, bins=[np.arange(80, 190, 2), np.arange(50, 400, 10)])"
   ]
  },
  {
   "cell_type": "code",
   "execution_count": null,
   "metadata": {},
   "outputs": [],
   "source": [
    "cadence = data[2, :]\n",
    "speed = data[3, :]\n",
    "speed = speed[cadence > 0]\n",
    "cadence = cadence[cadence > 0]\n",
    "\n",
    "h = plt.hist2d(cadence, speed, bins=[np.arange(50, 90, 1), np.arange(1, 10, .03)])"
   ]
  },
  {
   "cell_type": "code",
   "execution_count": null,
   "metadata": {},
   "outputs": [],
   "source": [
    "plt.imshow(np.log(h[0] + 1), aspect='auto')"
   ]
  },
  {
   "cell_type": "code",
   "execution_count": null,
   "metadata": {},
   "outputs": [],
   "source": [
    "plt.scatter(cadence, speed)"
   ]
  },
  {
   "cell_type": "code",
   "execution_count": null,
   "metadata": {},
   "outputs": [],
   "source": []
  }
 ],
 "metadata": {
  "kernelspec": {
   "display_name": "Python 3",
   "language": "python",
   "name": "python3"
  },
  "language_info": {
   "codemirror_mode": {
    "name": "ipython",
    "version": 3
   },
   "file_extension": ".py",
   "mimetype": "text/x-python",
   "name": "python",
   "nbconvert_exporter": "python",
   "pygments_lexer": "ipython3",
   "version": "3.6.5"
  }
 },
 "nbformat": 4,
 "nbformat_minor": 2
}
