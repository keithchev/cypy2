{
 "cells": [
  {
   "cell_type": "markdown",
   "metadata": {},
   "source": [
    "# FIT file exploration\n",
    "__Keith Cheveralls__<br>\n",
    "__March 2019__\n",
    "\n",
    "This notebook parses all of the FIT files in a single Strava data dump and explores the message types and fields present in each/all of the files.\n",
    "\n",
    "This is necessary, and messy, because the message types and fields are device-dependent, firmware-version-dependent, and activity-type-dependent. \n",
    "\n",
    "As of March 2019, there are FIT files from the Wahoo Elemnt and the Garmin Forerunner 220, Fenix 3, Edge 520. "
   ]
  },
  {
   "cell_type": "code",
   "execution_count": null,
   "metadata": {},
   "outputs": [],
   "source": [
    "import os\n",
    "import re\n",
    "import sys\n",
    "import gzip\n",
    "import time\n",
    "import pickle\n",
    "import datetime\n",
    "import numpy as np\n",
    "from scipy import stats\n",
    "import pandas as pd\n",
    "\n",
    "from lxml import etree\n",
    "import fitparse\n",
    "from fitparse import FitFile\n",
    "from matplotlib import pyplot as plt\n",
    "\n",
    "%matplotlib \n",
    "%load_ext autoreload\n",
    "%autoreload 2"
   ]
  },
  {
   "cell_type": "code",
   "execution_count": null,
   "metadata": {},
   "outputs": [],
   "source": [
    "def timer(method):\n",
    "    def wrapper(*args, **kwargs):\n",
    "        start = time.time()\n",
    "        result = method(*args, **kwargs)\n",
    "        stop = time.time()\n",
    "        print('Elapsed time: %0.2f' % (stop - start))\n",
    "        return result\n",
    "    return wrapper"
   ]
  },
  {
   "cell_type": "code",
   "execution_count": null,
   "metadata": {},
   "outputs": [],
   "source": [
    "sys.path.append('../')\n",
    "import cypy2\n",
    "\n",
    "root = '/home/keith/Downloads/export_7989839-1'\n",
    "\n",
    "wahoo_example = '2326365683.fit.gz'\n",
    "garmin_example = '2122584483.fit.gz'\n",
    "garmin_indoor_example = '2324139976.fit.gz'"
   ]
  },
  {
   "cell_type": "code",
   "execution_count": null,
   "metadata": {},
   "outputs": [],
   "source": [
    "m = cypy2.StravaExportManager(root, from_cache=True)"
   ]
  },
  {
   "cell_type": "code",
   "execution_count": null,
   "metadata": {},
   "outputs": [],
   "source": [
    "m.metadata.shape, m.metadata.type.unique()"
   ]
  },
  {
   "cell_type": "markdown",
   "metadata": {},
   "source": [
    "### Parse and cache data from all FIT files"
   ]
  },
  {
   "cell_type": "code",
   "execution_count": null,
   "metadata": {},
   "outputs": [],
   "source": [
    "# For the Strava export from 2019-03-01, parsing all 943 FIT files takes ~30 minutes.\n",
    "timer(m.parse_all)()"
   ]
  },
  {
   "cell_type": "code",
   "execution_count": null,
   "metadata": {},
   "outputs": [],
   "source": [
    "len(m.parsed_data)"
   ]
  },
  {
   "cell_type": "code",
   "execution_count": null,
   "metadata": {},
   "outputs": [],
   "source": [
    "m.to_cache()"
   ]
  },
  {
   "cell_type": "code",
   "execution_count": null,
   "metadata": {},
   "outputs": [],
   "source": [
    "# check for errors\n",
    "m.parsing_errors"
   ]
  },
  {
   "cell_type": "markdown",
   "metadata": {},
   "source": [
    "### Determine message types and fields present in all FIT files"
   ]
  },
  {
   "cell_type": "code",
   "execution_count": null,
   "metadata": {},
   "outputs": [],
   "source": [
    "names = ['strava_metadata', 'file_id', 'device_info', 'event', 'session', 'record']\n",
    "strava_metadata, file_id, device_info, event, session, record = [d[name] for name in names]"
   ]
  },
  {
   "cell_type": "code",
   "execution_count": null,
   "metadata": {},
   "outputs": [],
   "source": [
    "# check that there is only one file_id and session message per file\n",
    "set([d['file_id'].shape[0] for d in m.parsed_data]), set([d['session'].shape[0] for d in m.parsed_data])"
   ]
  },
  {
   "cell_type": "code",
   "execution_count": null,
   "metadata": {},
   "outputs": [],
   "source": [
    "# all unique combinations of message types\n",
    "message_name_lists = list(set([tuple(d.keys()) for d in m.parsed_data]))\n",
    "\n",
    "# all combinations of message types\n",
    "sorted([', '.join(sorted(message_names)) for message_names in message_name_lists])\n",
    "\n",
    "# common message types\n",
    "', '.join(set(message_name_lists[0]).intersection(*message_name_lists))"
   ]
  },
  {
   "cell_type": "code",
   "execution_count": null,
   "metadata": {},
   "outputs": [],
   "source": [
    "# column renaming \n",
    "for d in m.parsed_data:\n",
    "    d['device_info'].rename(columns={'garmin_product': 'product_name'}, inplace=True)\n",
    "\n",
    "for d in m.parsed_data:\n",
    "    d['file_id'].rename(columns={'garmin_product': 'product_name', 'product': 'product_name'}, inplace=True)"
   ]
  },
  {
   "cell_type": "code",
   "execution_count": null,
   "metadata": {},
   "outputs": [],
   "source": [
    "# cat all file_id messages\n",
    "dcat = pd.concat(tuple([d['file_id'] for d in m.parsed_data]))\n",
    "dcat.groupby(['manufacturer', 'product_name']).count()"
   ]
  },
  {
   "cell_type": "code",
   "execution_count": null,
   "metadata": {},
   "outputs": [],
   "source": [
    "# cat all messages of a particular type\n",
    "dcat = pd.concat(tuple([d['device_info'] for d in m.parsed_data]))\n",
    "dcat.product_name.unique()"
   ]
  },
  {
   "cell_type": "code",
   "execution_count": null,
   "metadata": {},
   "outputs": [],
   "source": [
    "# cat all sport messages (which are only present in some files)\n",
    "dcat = pd.concat(tuple([d['sport'] for d in m.parsed_data if d.get('sport') is not None]))\n",
    "dcat.groupby(['sport', 'sub_sport']).count()"
   ]
  },
  {
   "cell_type": "code",
   "execution_count": null,
   "metadata": {},
   "outputs": [],
   "source": [
    "# activities without a 'sport' message\n",
    "no_sport_inds = [ind for ind, d in enumerate(m.parsed_data) if d.get('sport') is None]\n",
    "len(no_sport_inds)"
   ]
  },
  {
   "cell_type": "code",
   "execution_count": null,
   "metadata": {},
   "outputs": [],
   "source": [
    "# activities from the Edge520 without a 'sport' message\n",
    "d = [d for ind, d in enumerate(m.parsed_data) if ind in no_sport_inds and 'edge520' in d['file_id'].product_name.values]\n",
    "len(d)"
   ]
  },
  {
   "cell_type": "code",
   "execution_count": null,
   "metadata": {},
   "outputs": [],
   "source": [
    "# cat the sport column of the session message for activities without a sport message\n",
    "dcat = pd.concat(tuple([d['session'][['sport']] for ind, d in enumerate(m.parsed_data) if ind in no_sport_inds]))"
   ]
  },
  {
   "cell_type": "code",
   "execution_count": null,
   "metadata": {},
   "outputs": [],
   "source": [
    "(dcat.sport=='running').sum(), (dcat.sport=='cycling').sum()"
   ]
  },
  {
   "cell_type": "code",
   "execution_count": null,
   "metadata": {},
   "outputs": [],
   "source": [
    "# cat the sport column for all session messages\n",
    "dcat = pd.concat(tuple([d['session'][['sport']] for ind, d in enumerate(m.parsed_data)]))"
   ]
  },
  {
   "cell_type": "code",
   "execution_count": null,
   "metadata": {},
   "outputs": [],
   "source": [
    "dcat.sport.unique()"
   ]
  },
  {
   "cell_type": "code",
   "execution_count": null,
   "metadata": {},
   "outputs": [],
   "source": [
    "# all activities from fr220\n",
    "fr220 = [d for d in m.parsed_data if 'fr220' in d['device_info']['product_name'].unique()]"
   ]
  },
  {
   "cell_type": "code",
   "execution_count": null,
   "metadata": {},
   "outputs": [],
   "source": [
    "# all sets of fields for given message type\n",
    "message_name = 'device_info'\n",
    "column_lists = list(set([tuple(d[message_name].columns) for d in m.parsed_data]))\n",
    "sorted([', '.join(sorted(columns)) for columns in column_lists])\n",
    "\n",
    "# common fields across all activities\n",
    "set(column_lists[0]).intersection(*column_lists)"
   ]
  },
  {
   "cell_type": "code",
   "execution_count": null,
   "metadata": {},
   "outputs": [],
   "source": [
    "# all sets of record fields (excluding indoor rides)\n",
    "column_lists = list(set([tuple(d['record'].columns) for d in m.parsed_data if 'position_lat' in d['record'].columns]))\n",
    "sorted([', '.join(sorted(columns)) for columns in column_lists])\n",
    "\n",
    "# common fields across all activities\n",
    "set(column_lists[0]).intersection(*column_lists)"
   ]
  },
  {
   "cell_type": "markdown",
   "metadata": {},
   "source": [
    "### Parse a Garmin and Wahoo example"
   ]
  },
  {
   "cell_type": "code",
   "execution_count": null,
   "metadata": {},
   "outputs": [],
   "source": [
    "# Garmin\n",
    "filepath = os.path.join(root, 'activities', garmin_example)\n",
    "dg = cypy2.file_utils.parse_fit(filepath)\n",
    "\n",
    "# Wahoo\n",
    "filepath = os.path.join(root, 'activities', wahoo_example)\n",
    "dw = cypy2.file_utils.parse_fit(filepath)"
   ]
  },
  {
   "cell_type": "code",
   "execution_count": null,
   "metadata": {},
   "outputs": [],
   "source": [
    "for key, data in dw.items():\n",
    "    print('%s: %s' % (key, list(data.columns)))"
   ]
  },
  {
   "cell_type": "markdown",
   "metadata": {},
   "source": [
    "### FIT file debugging"
   ]
  },
  {
   "cell_type": "code",
   "execution_count": null,
   "metadata": {},
   "outputs": [],
   "source": [
    "fitfile = cypy2.file_utils.open_fit(os.path.join(root, 'activities', wahoo_example))"
   ]
  },
  {
   "cell_type": "code",
   "execution_count": null,
   "metadata": {},
   "outputs": [],
   "source": [
    "file_id = next(fitfile.get_messages('file_id'))"
   ]
  },
  {
   "cell_type": "code",
   "execution_count": null,
   "metadata": {},
   "outputs": [],
   "source": [
    "m.def_mesg.field_defs"
   ]
  },
  {
   "cell_type": "code",
   "execution_count": null,
   "metadata": {},
   "outputs": [],
   "source": []
  }
 ],
 "metadata": {
  "kernelspec": {
   "display_name": "Python 3",
   "language": "python",
   "name": "python3"
  },
  "language_info": {
   "codemirror_mode": {
    "name": "ipython",
    "version": 3
   },
   "file_extension": ".py",
   "mimetype": "text/x-python",
   "name": "python",
   "nbconvert_exporter": "python",
   "pygments_lexer": "ipython3",
   "version": "3.6.5"
  }
 },
 "nbformat": 4,
 "nbformat_minor": 2
}
