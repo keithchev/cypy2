{
 "cells": [
  {
   "cell_type": "markdown",
   "metadata": {},
   "source": [
    "# Developing the Activity class\n",
    "__Keith Cheveralls__<br>\n",
    "__March 2019__\n",
    "\n"
   ]
  },
  {
   "cell_type": "code",
   "execution_count": null,
   "metadata": {},
   "outputs": [],
   "source": [
    "import os\n",
    "import re\n",
    "import sys\n",
    "import git\n",
    "import gzip\n",
    "import time\n",
    "import json\n",
    "import pickle\n",
    "import fitparse\n",
    "import datetime\n",
    "import psycopg2\n",
    "import subprocess\n",
    "import sqlalchemy\n",
    "import numpy as np\n",
    "import pandas as pd\n",
    "import seaborn as sns\n",
    "\n",
    "from scipy import stats\n",
    "from psycopg2 import sql\n",
    "from fitparse import FitFile\n",
    "import matplotlib as mpl\n",
    "from matplotlib import pyplot as plt"
   ]
  },
  {
   "cell_type": "code",
   "execution_count": null,
   "metadata": {},
   "outputs": [],
   "source": [
    "from cycler import cycler\n",
    "red, blue, green, purple, orange, yellow, brown, pink, gray  = sns.color_palette('Set1')\n",
    "mpl.rcParams['axes.prop_cycle'] = cycler(color=[blue, orange, green, red, brown, gray])"
   ]
  },
  {
   "cell_type": "code",
   "execution_count": null,
   "metadata": {},
   "outputs": [],
   "source": [
    "%matplotlib \n",
    "%load_ext autoreload\n",
    "%autoreload 2"
   ]
  },
  {
   "cell_type": "code",
   "execution_count": null,
   "metadata": {},
   "outputs": [],
   "source": [
    "sys.path.insert(0, '../../dbutils/')\n",
    "import dbutils\n",
    "\n",
    "sys.path.insert(0, '../')\n",
    "import cypy2\n",
    "\n",
    "colors = sns.color_palette()\n",
    "\n",
    "root = '/home/keith/Downloads/export_7989839-1'\n",
    "wahoo_example = '2326365683.fit.gz'\n",
    "garmin_example = '2122584483.fit.gz'\n",
    "garmin_indoor_example = '2324139976.fit.gz'"
   ]
  },
  {
   "cell_type": "markdown",
   "metadata": {},
   "source": [
    "### Load a single activity directly from a FIT file"
   ]
  },
  {
   "cell_type": "code",
   "execution_count": null,
   "metadata": {},
   "outputs": [],
   "source": [
    "a = cypy2.LocalActivity.from_fit_file(os.path.join(root, 'activities', wahoo_example))"
   ]
  },
  {
   "cell_type": "code",
   "execution_count": null,
   "metadata": {},
   "outputs": [],
   "source": [
    "a.to_db(conn, kind='processed')"
   ]
  },
  {
   "cell_type": "markdown",
   "metadata": {},
   "source": [
    "### Load all activities from a cached strava export"
   ]
  },
  {
   "cell_type": "code",
   "execution_count": null,
   "metadata": {},
   "outputs": [],
   "source": [
    "strava_export = cypy2.StravaExportManager(root, from_cache=True)\n",
    "manager = cypy2.ActivityManager.from_strava_export(strava_export, raise_errors=True)"
   ]
  },
  {
   "cell_type": "code",
   "execution_count": null,
   "metadata": {},
   "outputs": [],
   "source": [
    "# testing id_from_fit\n",
    "cypy2.LocalActivity.id_from_fit(file_id=pd.Series(dict(time_created=pd.to_datetime('2018-01-02 3:45:56'))))"
   ]
  },
  {
   "cell_type": "markdown",
   "metadata": {},
   "source": [
    "### Sanity checks"
   ]
  },
  {
   "cell_type": "code",
   "execution_count": null,
   "metadata": {},
   "outputs": [],
   "source": [
    "len(manager.activities()), manager.metadata().shape"
   ]
  },
  {
   "cell_type": "code",
   "execution_count": null,
   "metadata": {},
   "outputs": [],
   "source": [
    "# check activity types\n",
    "manager.metadata().activity_type.unique()"
   ]
  },
  {
   "cell_type": "code",
   "execution_count": null,
   "metadata": {},
   "outputs": [],
   "source": [
    "# count sensor flags by device\n",
    "md = manager.metadata()\n",
    "pd.concat((md.groupby('device_model').count().activity_id, md.groupby('device_model').sum()), axis=1)"
   ]
  },
  {
   "cell_type": "code",
   "execution_count": null,
   "metadata": {},
   "outputs": [],
   "source": [
    "# rides with power but without heart rate\n",
    "manager.metadata(activity_type='ride', heart_rate_flag=False, power_flag=True)"
   ]
  },
  {
   "cell_type": "code",
   "execution_count": null,
   "metadata": {},
   "outputs": [],
   "source": [
    "# rides with heart rate but without an antplus_device_type column in device_info\n",
    "# these *should* be only runs from fenix3\n",
    "activities = []\n",
    "for a in manager.activities(activity_type='run'):\n",
    "    if 'antplus_device_type' not in a._fit_data['device_info'].columns:\n",
    "        if 'heart_rate' in a._fit_data['record'].columns:\n",
    "            activities.append(a)\n",
    "        \n",
    "set([a.metadata.device_model for a in activities])"
   ]
  },
  {
   "cell_type": "code",
   "execution_count": null,
   "metadata": {},
   "outputs": [],
   "source": [
    "# rides with cadence but no power - should all be from fr220\n",
    "activities = []\n",
    "for a in manager.activities(activity_type='ride'):\n",
    "    columns = a._fit_data['record'].columns\n",
    "    if ('cadence' in columns) and ('power' not in columns):\n",
    "        activities.append(a)\n",
    "        \n",
    "set([a.metadata.device_model for a in activities])"
   ]
  },
  {
   "cell_type": "code",
   "execution_count": null,
   "metadata": {},
   "outputs": [],
   "source": [
    "# check that the first and last events are starts and stops, respectively,\n",
    "# and check that first and last event timestamps are equal to the first/last record's timestamp\n",
    "\n",
    "# currently, there are four events - all runs - for which there is only a single 'start' event\n",
    "# presumably, these are activities for which the device died during the activity\n",
    "for a in manager.activities():\n",
    "    if a.events().iloc[0].event_type != 'start':\n",
    "        print('First event is not a start for %s' % a.metadata.activity_id)\n",
    "    if a.events().iloc[-1].event_type != 'stop':\n",
    "        print('Last event is not a stop for %s' % a.metadata.activity_id)\n",
    "        \n",
    "for a in manager.activities():\n",
    "    if (a.events().iloc[0].event_time - a.records().iloc[0].timepoint).seconds > 1:\n",
    "        print('First event and record timestamps not equal for %s' % a.metadata.activity_id)\n",
    "    if (a.events().iloc[-1].event_time - a.records().iloc[-1].timepoint).seconds > 1:\n",
    "        print('Last event and record timestamps not equal for %s' % a.metadata.activity_id)"
   ]
  },
  {
   "cell_type": "code",
   "execution_count": null,
   "metadata": {},
   "outputs": [],
   "source": [
    "# cat all messages for some activities\n",
    "dcat = pd.concat(tuple([a._fit_data['session'] for a in manager.activities(activity_type='ride', device_model='edge520')]))"
   ]
  },
  {
   "cell_type": "code",
   "execution_count": null,
   "metadata": {},
   "outputs": [],
   "source": [
    "dcat = dcat.dropna(axis='columns', how='all')"
   ]
  },
  {
   "cell_type": "code",
   "execution_count": null,
   "metadata": {},
   "outputs": [],
   "source": [
    "dcat.tail()"
   ]
  },
  {
   "cell_type": "markdown",
   "metadata": {},
   "source": [
    "### Insert __raw__ data into the database\n",
    "\n",
    "This requires that we have an ActivityManager instance, `manager`, initialized from a `StravaExportManager` (i.e., a local cache of parsed FIT file data). "
   ]
  },
  {
   "cell_type": "code",
   "execution_count": null,
   "metadata": {},
   "outputs": [],
   "source": [
    "user = 'keith'\n",
    "host = 'localhost'\n",
    "dbname = 'cypy2'\n",
    "conn = psycopg2.connect(user=user, host=host, dbname=dbname)\n",
    "cursor = conn.cursor()"
   ]
  },
  {
   "cell_type": "code",
   "execution_count": null,
   "metadata": {},
   "outputs": [],
   "source": [
    "dbutils.get_table_sizes(conn)"
   ]
  },
  {
   "cell_type": "code",
   "execution_count": null,
   "metadata": {},
   "outputs": [],
   "source": [
    "dbutils.get_rows(conn, 'metadata', {'activity_id': '20190301001401'}).to_json(date_format='iso')"
   ]
  },
  {
   "cell_type": "code",
   "execution_count": null,
   "metadata": {},
   "outputs": [],
   "source": [
    "for table in dbutils.get_table_names(conn):\n",
    "    print('%s: %s' % (table, dbutils.get_column_names(conn, table)))"
   ]
  },
  {
   "cell_type": "code",
   "execution_count": null,
   "metadata": {},
   "outputs": [],
   "source": [
    "# truncate all tables\n",
    "for table in dbutils.get_table_names(conn):\n",
    "    dbutils.truncate_table(conn, table, freal=True)"
   ]
  },
  {
   "cell_type": "code",
   "execution_count": null,
   "metadata": {},
   "outputs": [],
   "source": [
    "# attempt to insert all *raw* activity data\n",
    "start = time.time()\n",
    "\n",
    "for activity in m.activities():\n",
    "    sys.stdout.write('\\r%s' % activity.metadata.activity_id)\n",
    "    activity.to_db(conn, kind='raw')\n",
    "\n",
    "print('\\nElapsed time: %0.2f' % (time.time() - start))"
   ]
  },
  {
   "cell_type": "markdown",
   "metadata": {},
   "source": [
    "### Insert __processed__ data from all activities"
   ]
  },
  {
   "cell_type": "code",
   "execution_count": null,
   "metadata": {},
   "outputs": [],
   "source": [
    "user = 'keith'\n",
    "host = 'localhost'\n",
    "dbname = 'cypy2'\n",
    "conn = psycopg2.connect(user=user, host=host, dbname=dbname)"
   ]
  },
  {
   "cell_type": "code",
   "execution_count": null,
   "metadata": {},
   "outputs": [],
   "source": [
    "# initialize a manager from the database\n",
    "manager = cypy2.ActivityManager.from_db(conn, kind='metadata')"
   ]
  },
  {
   "cell_type": "code",
   "execution_count": null,
   "metadata": {},
   "outputs": [],
   "source": [
    "# insert *processed* data from all activities\n",
    "start = time.time()\n",
    "\n",
    "for activity in manager.activities():\n",
    "    sys.stdout.write('\\r%s' % activity.metadata.activity_id)\n",
    "    \n",
    "    # load and process the raw data\n",
    "    activity.load(conn, kind='raw')\n",
    "    activity.process()\n",
    "    \n",
    "    activity.to_db(conn, kind='processed', verbose=False)\n",
    "\n",
    "print('\\nElapsed time: %0.2f' % (time.time() - start))"
   ]
  },
  {
   "cell_type": "markdown",
   "metadata": {},
   "source": [
    "### Load all activities from the database\n",
    "TODO: in from_db, load the processed, and not just the raw, data"
   ]
  },
  {
   "cell_type": "code",
   "execution_count": null,
   "metadata": {},
   "outputs": [],
   "source": [
    "manager = cypy2.ActivityManager.from_db(conn, kind='metadata')"
   ]
  },
  {
   "cell_type": "code",
   "execution_count": null,
   "metadata": {},
   "outputs": [],
   "source": [
    "manager.metadata().shape"
   ]
  },
  {
   "cell_type": "code",
   "execution_count": null,
   "metadata": {},
   "outputs": [],
   "source": [
    "manager.metadata(activity_type='ride').groupby(['heart_rate_flag', 'power_flag']).count()"
   ]
  },
  {
   "cell_type": "markdown",
   "metadata": {},
   "source": [
    "### Development: inserting trajectories as LineString geometries"
   ]
  },
  {
   "cell_type": "code",
   "execution_count": null,
   "metadata": {},
   "outputs": [],
   "source": [
    "a = manager.activities('20190301001401').pop()\n",
    "a.load(conn, kind='raw')\n",
    "a.process()"
   ]
  },
  {
   "cell_type": "code",
   "execution_count": null,
   "metadata": {},
   "outputs": [],
   "source": [
    "a.to_db(conn, kind='processed')"
   ]
  },
  {
   "cell_type": "code",
   "execution_count": null,
   "metadata": {},
   "outputs": [],
   "source": [
    "a.records('proc')[['lon', 'lat']].values.tolist()"
   ]
  },
  {
   "cell_type": "code",
   "execution_count": null,
   "metadata": {},
   "outputs": [],
   "source": [
    "# for LINESTRING (lon, lat only)\n",
    "d = {\n",
    "    'type': 'LineString',\n",
    "    'coordinates': a.records('proc')[['lon', 'lat']].values.tolist()\n",
    "}\n",
    "\n",
    "query = (\n",
    "'update proc_records set geom = ST_SetSRID(ST_GeomFromGeoJSON(%s), 4269) '\n",
    "'where activity_id = \\'20190301001401\\''\n",
    ")"
   ]
  },
  {
   "cell_type": "code",
   "execution_count": null,
   "metadata": {},
   "outputs": [],
   "source": [
    "dbutils.execute_query(conn, query, (json.dumps(d),), commit=True)"
   ]
  },
  {
   "cell_type": "markdown",
   "metadata": {},
   "source": [
    "### Figuring out how postGIS handles NaNs in LineStrings\n",
    "\n",
    "np.nan throws an error, as expected, and nulls are converted to zero (no matter what field - lat/lon/z/m - they're in). "
   ]
  },
  {
   "cell_type": "code",
   "execution_count": null,
   "metadata": {},
   "outputs": [],
   "source": [
    "dbutils.execute_query(conn, 'drop table test;', commit=True)\n",
    "dbutils.execute_query(conn, 'create table test (geom geometry(LineString, 4326));', commit=True)"
   ]
  },
  {
   "cell_type": "code",
   "execution_count": null,
   "metadata": {},
   "outputs": [],
   "source": [
    "d = {'type': 'LineString', 'coordinates': [[None, None, None, None], [-120, 38, 300, 1], [-121, 37, 400, 2]]}\n",
    "json.dumps(d)"
   ]
  },
  {
   "cell_type": "code",
   "execution_count": null,
   "metadata": {},
   "outputs": [],
   "source": [
    "dbutils.execute_query(conn, 'insert into test values (St_SetSRID(ST_Force2D(ST_GeomFromGeoJSON(%s)), 4326))', (json.dumps(d),), commit=True)"
   ]
  },
  {
   "cell_type": "code",
   "execution_count": null,
   "metadata": {},
   "outputs": [],
   "source": [
    "dbutils.execute_query(conn, 'select ST_AsText(geom) from test')"
   ]
  },
  {
   "cell_type": "markdown",
   "metadata": {},
   "source": [
    "### Plotting activity records"
   ]
  },
  {
   "cell_type": "code",
   "execution_count": null,
   "metadata": {},
   "outputs": [],
   "source": [
    "a = cypy2.LocalActivity.from_fit_file(os.path.join(root, 'activities', garmin_example))"
   ]
  },
  {
   "cell_type": "code",
   "execution_count": null,
   "metadata": {},
   "outputs": [],
   "source": [
    "# 2018 horseshoe meadows road\n",
    "a = manager.activities('20180923163103').pop()\n",
    "a.load(conn, kind='raw')\n",
    "a.process()"
   ]
  },
  {
   "cell_type": "code",
   "execution_count": null,
   "metadata": {},
   "outputs": [],
   "source": [
    "a.plot(['power', 'vam'], xmode='seconds', overlay=False, xrange=[10000, 10888], halflife=1)"
   ]
  },
  {
   "cell_type": "code",
   "execution_count": null,
   "metadata": {},
   "outputs": [],
   "source": [
    "a.plot(['power', 'heart_rate', 'cadence', 'vam', 'speed'], xmode='hours', overlay=False, xrange=[2, 3], halflife=5)"
   ]
  },
  {
   "cell_type": "code",
   "execution_count": null,
   "metadata": {},
   "outputs": [],
   "source": [
    "a.plot(['power', 'altitude'], xmode='hours', overlay=True, xrange=[], halflife=11)"
   ]
  },
  {
   "cell_type": "code",
   "execution_count": null,
   "metadata": {},
   "outputs": [],
   "source": [
    "recsw = a.records('raw')\n",
    "recsp = a.records('proc')"
   ]
  },
  {
   "cell_type": "raw",
   "metadata": {},
   "source": [
    "# moving average types/widths\n",
    "\n",
    "speed:       rolling(5)\n",
    "power:       ewm(halflife=5)\n",
    "cadence:     ewm(halflife=5)\n",
    "heart_rate:  ewm(halflife=5)"
   ]
  },
  {
   "cell_type": "markdown",
   "metadata": {},
   "source": [
    "### Development: calculating VAM from altitude\n",
    "\n",
    "Legacy plots from when I was figuring out how to calculate VAM using a moving linear regression. Here we just compare the VAM calculated in `Activity._calculate_vam` to an EWM of the derivative of the altitude."
   ]
  },
  {
   "cell_type": "code",
   "execution_count": null,
   "metadata": {},
   "outputs": [],
   "source": [
    "# 2018 horseshoe meadows road\n",
    "a = manager.activities('20180923163103').pop()"
   ]
  },
  {
   "cell_type": "code",
   "execution_count": null,
   "metadata": {},
   "outputs": [],
   "source": [
    "alt = a.records('raw').altitude\n",
    "alt = (alt - 2500)/5."
   ]
  },
  {
   "cell_type": "code",
   "execution_count": null,
   "metadata": {},
   "outputs": [],
   "source": [
    "vam = a._calculate_vam(alt)"
   ]
  },
  {
   "cell_type": "code",
   "execution_count": null,
   "metadata": {},
   "outputs": [],
   "source": [
    "fig, ax = plt.subplots(1, 1)\n",
    "\n",
    "x = alt.index.values\n",
    "y = alt.values\n",
    "\n",
    "dy = np.diff(y)\n",
    "ax.plot(x[1:], dy, color=np.ones(3)*.7)\n",
    "\n",
    "# pandas exponentially weighted moving average\n",
    "naive_slopes = pd.Series(dy).ewm(halflife=7).mean()\n",
    "ax.plot(x[1:], naive_slopes.values, color=colors[0])\n",
    "\n",
    "# moving linear regression\n",
    "ax.plot(x, vam/3600, color=colors[1])\n",
    "\n",
    "ax.set_xlim([0, 400])\n",
    "ax.set_ylim([0, .5])\n",
    "\n",
    "ax2 = ax.twinx()\n",
    "ax2.plot(alt.values, color=colors[2])\n",
    "ax2.set_ylim([1140, 1220])"
   ]
  },
  {
   "cell_type": "markdown",
   "metadata": {},
   "source": [
    "### Database debugging"
   ]
  },
  {
   "cell_type": "code",
   "execution_count": null,
   "metadata": {},
   "outputs": [],
   "source": [
    "user = 'keith'\n",
    "host = 'localhost'\n",
    "dbname = 'cypy2'\n",
    "conn = psycopg2.connect(user=user, host=host, dbname=dbname)"
   ]
  },
  {
   "cell_type": "code",
   "execution_count": null,
   "metadata": {},
   "outputs": [],
   "source": [
    "selector={'activity_id': '20191122010203', 'date_created': '2019-03-12 22:23:53.694945-07'}"
   ]
  },
  {
   "cell_type": "code",
   "execution_count": null,
   "metadata": {},
   "outputs": [],
   "source": [
    "kwargs = {'table': sql.Identifier('proc_records')}\n",
    "kwargs['column'] = sql.SQL('*')\n",
    "\n",
    "cols, vals = list(selector.keys()), list(selector.values())\n",
    "kwargs.update({\n",
    "    'filter_columns': sql.SQL(', ').join([sql.Identifier(col) for col in cols]),\n",
    "    'filter_values': sql.SQL(', ').join([sql.Literal(val) for val in vals])\n",
    "})\n",
    "query = sql.SQL('select {column} from {table} where ({filter_columns}) = (%s, %s)').format(**kwargs)\n",
    "query.as_string(conn)"
   ]
  },
  {
   "cell_type": "code",
   "execution_count": null,
   "metadata": {},
   "outputs": [],
   "source": [
    "dbutils.execute_query(conn, query, vals)"
   ]
  },
  {
   "cell_type": "code",
   "execution_count": null,
   "metadata": {},
   "outputs": [],
   "source": [
    "dbutils.insert_row(conn, 'metadata', {'activity_id': 'testid'})"
   ]
  },
  {
   "cell_type": "code",
   "execution_count": null,
   "metadata": {},
   "outputs": [],
   "source": [
    "dbutils.insert_row(conn, 'proc_records', {'activity_id': 'testid', 'commit_hash': 'testhash'})"
   ]
  },
  {
   "cell_type": "code",
   "execution_count": null,
   "metadata": {},
   "outputs": [],
   "source": [
    "d = pd.read_sql('select activity_id, date_created from proc_records', conn)\n",
    "d.sort_values(by='date_created', ascending=False).iloc[0]"
   ]
  },
  {
   "cell_type": "code",
   "execution_count": null,
   "metadata": {},
   "outputs": [],
   "source": [
    "conn.commit()"
   ]
  },
  {
   "cell_type": "code",
   "execution_count": null,
   "metadata": {},
   "outputs": [],
   "source": [
    "conn.rollback()"
   ]
  },
  {
   "cell_type": "code",
   "execution_count": null,
   "metadata": {},
   "outputs": [],
   "source": [
    "# all activity_ids\n",
    "dbutils.get_rows(conn, 'metadata', column='activity_id').values.flatten()"
   ]
  },
  {
   "cell_type": "code",
   "execution_count": null,
   "metadata": {},
   "outputs": [],
   "source": [
    "# events for one activity\n",
    "dbutils.get_rows(conn, 'raw_events', selector={'activity_id': a.metadata.activity_id})"
   ]
  },
  {
   "cell_type": "code",
   "execution_count": null,
   "metadata": {},
   "outputs": [],
   "source": [
    "# the raw records as a dataframe\n",
    "d = dbutils.get_rows(conn, 'raw_records', selector={'activity_id', a.metadata.activity_id})\n",
    "pd.DataFrame(d.to_dict(orient='records').pop())"
   ]
  },
  {
   "cell_type": "code",
   "execution_count": null,
   "metadata": {},
   "outputs": [],
   "source": [
    "# query debugging\n",
    "query = sql.SQL('select {column} from {table}').format(**{\n",
    "    'table': sql.Identifier('tablename'),\n",
    "    'column': sql.SQL('*'),\n",
    "})\n",
    "\n",
    "query.as_string(conn)"
   ]
  },
  {
   "cell_type": "markdown",
   "metadata": {},
   "source": [
    "### Possible pandas bug (on v0.22.0)"
   ]
  },
  {
   "cell_type": "code",
   "execution_count": null,
   "metadata": {},
   "outputs": [],
   "source": [
    "pd.__version__"
   ]
  },
  {
   "cell_type": "code",
   "execution_count": null,
   "metadata": {},
   "outputs": [],
   "source": [
    "timestamp = pd.to_datetime('2019-01-01')"
   ]
  },
  {
   "cell_type": "code",
   "execution_count": null,
   "metadata": {},
   "outputs": [],
   "source": [
    "# d.timestamp is a timestamp, as expected\n",
    "d = pd.Series(dict(value=None, timestamp=None))\n",
    "d.at['timestamp'] = timestamp\n",
    "type(d.timestamp)"
   ]
  },
  {
   "cell_type": "code",
   "execution_count": null,
   "metadata": {},
   "outputs": [],
   "source": [
    "# d.timestamp is cast to an int\n",
    "d = pd.Series(dict(value=None))\n",
    "d.at['timestamp'] = timestamp\n",
    "print(type(d.timestamp))\n",
    "\n",
    "# but now it's a timestamp\n",
    "d.at['timestamp'] = timestamp\n",
    "print(type(d.timestamp))"
   ]
  },
  {
   "cell_type": "code",
   "execution_count": null,
   "metadata": {},
   "outputs": [],
   "source": []
  }
 ],
 "metadata": {
  "kernelspec": {
   "display_name": "Python 3",
   "language": "python",
   "name": "python3"
  },
  "language_info": {
   "codemirror_mode": {
    "name": "ipython",
    "version": 3
   },
   "file_extension": ".py",
   "mimetype": "text/x-python",
   "name": "python",
   "nbconvert_exporter": "python",
   "pygments_lexer": "ipython3",
   "version": "3.6.5"
  }
 },
 "nbformat": 4,
 "nbformat_minor": 2
}
