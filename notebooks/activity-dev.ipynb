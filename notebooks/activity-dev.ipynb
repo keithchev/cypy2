{
 "cells": [
  {
   "cell_type": "markdown",
   "metadata": {},
   "source": [
    "# Developing Activity class\n",
    "__Keith Cheveralls__<br>\n",
    "__March 2019__\n",
    "\n"
   ]
  },
  {
   "cell_type": "code",
   "execution_count": null,
   "metadata": {},
   "outputs": [],
   "source": [
    "import os\n",
    "import re\n",
    "import sys\n",
    "import git\n",
    "import gzip\n",
    "import time\n",
    "import pickle\n",
    "import fitparse\n",
    "import datetime\n",
    "import psycopg2\n",
    "import subprocess\n",
    "import sqlalchemy\n",
    "import numpy as np\n",
    "import pandas as pd\n",
    "\n",
    "from scipy import stats\n",
    "from psycopg2 import sql\n",
    "from fitparse import FitFile\n",
    "from matplotlib import pyplot as plt"
   ]
  },
  {
   "cell_type": "code",
   "execution_count": null,
   "metadata": {},
   "outputs": [],
   "source": [
    "%matplotlib \n",
    "%load_ext autoreload\n",
    "%autoreload 2"
   ]
  },
  {
   "cell_type": "code",
   "execution_count": null,
   "metadata": {},
   "outputs": [],
   "source": [
    "sys.path.insert(0, '../../pgutils/')\n",
    "import pgutils\n",
    "\n",
    "sys.path.insert(0, '../')\n",
    "import cypy2\n",
    "\n",
    "root = '/home/keith/Downloads/export_7989839-1'\n",
    "wahoo_example = '2326365683.fit.gz'\n",
    "garmin_example = '2122584483.fit.gz'\n",
    "garmin_indoor_example = '2324139976.fit.gz'"
   ]
  },
  {
   "cell_type": "markdown",
   "metadata": {},
   "source": [
    "### Load a single activity directly from a FIT file"
   ]
  },
  {
   "cell_type": "code",
   "execution_count": null,
   "metadata": {},
   "outputs": [],
   "source": [
    "a = cypy2.LocalActivity.from_fit_file(os.path.join(root, 'activities', garmin_example))"
   ]
  },
  {
   "cell_type": "markdown",
   "metadata": {},
   "source": [
    "### Load all activities from a cached strava export"
   ]
  },
  {
   "cell_type": "code",
   "execution_count": null,
   "metadata": {},
   "outputs": [],
   "source": [
    "strava_export = cypy2.StravaExportManager(root, from_cache=True)"
   ]
  },
  {
   "cell_type": "code",
   "execution_count": null,
   "metadata": {},
   "outputs": [],
   "source": [
    "m = cypy2.ActivityManager.from_strava_export(strava_export)"
   ]
  },
  {
   "cell_type": "code",
   "execution_count": null,
   "metadata": {},
   "outputs": [],
   "source": [
    "# testing id_from_fit\n",
    "cypy2.LocalActivity.id_from_fit(file_id=pd.Series(dict(time_created=pd.to_datetime('2018-01-02 3:45:56'))))"
   ]
  },
  {
   "cell_type": "markdown",
   "metadata": {},
   "source": [
    "### Sanity checks"
   ]
  },
  {
   "cell_type": "code",
   "execution_count": null,
   "metadata": {},
   "outputs": [],
   "source": [
    "len(m.activities()), m.metadata().shape"
   ]
  },
  {
   "cell_type": "code",
   "execution_count": null,
   "metadata": {},
   "outputs": [],
   "source": [
    "# check activity types\n",
    "m.metadata().activity_type.unique()"
   ]
  },
  {
   "cell_type": "code",
   "execution_count": null,
   "metadata": {},
   "outputs": [],
   "source": [
    "# count sensor flags by device\n",
    "md = m.metadata()\n",
    "pd.concat((md.groupby('device_model').count().activity_id, md.groupby('device_model').sum()), axis=1)"
   ]
  },
  {
   "cell_type": "code",
   "execution_count": null,
   "metadata": {},
   "outputs": [],
   "source": [
    "# rides with power but without heart rate\n",
    "m.metadata(activity_type='ride', heart_rate_flag=False, power_flag=True)"
   ]
  },
  {
   "cell_type": "code",
   "execution_count": null,
   "metadata": {},
   "outputs": [],
   "source": [
    "# rides with heart rate but without an antplus_device_type column in device_info\n",
    "# these *should* be only runs from fenix3\n",
    "activities = []\n",
    "for a in m.activities(activity_type='run'):\n",
    "    if 'antplus_device_type' not in a._fit_data['device_info'].columns:\n",
    "        if 'heart_rate' in a._fit_data['record'].columns:\n",
    "            activities.append(a)\n",
    "        \n",
    "set([a.metadata.device_model for a in activities])"
   ]
  },
  {
   "cell_type": "code",
   "execution_count": null,
   "metadata": {},
   "outputs": [],
   "source": [
    "# rides with cadence but no power - should all be from fr220\n",
    "activities = []\n",
    "for a in m.activities(activity_type='ride'):\n",
    "    columns = a._fit_data['record'].columns\n",
    "    if ('cadence' in columns) and ('power' not in columns):\n",
    "        activities.append(a)\n",
    "        \n",
    "set([a.metadata.device_model for a in activities])"
   ]
  },
  {
   "cell_type": "code",
   "execution_count": null,
   "metadata": {},
   "outputs": [],
   "source": [
    "m.activities()[-1]._fit_data['event']"
   ]
  },
  {
   "cell_type": "code",
   "execution_count": null,
   "metadata": {},
   "outputs": [],
   "source": [
    "# cat all messages for some activities\n",
    "dcat = pd.concat(tuple([a._fit_data['session'] for a in m.activities(activity_type='ride', device_model='edge520')]))"
   ]
  },
  {
   "cell_type": "code",
   "execution_count": null,
   "metadata": {},
   "outputs": [],
   "source": [
    "dcat = dcat.dropna(axis='columns', how='all')"
   ]
  },
  {
   "cell_type": "code",
   "execution_count": null,
   "metadata": {},
   "outputs": [],
   "source": [
    "dcat.tail()"
   ]
  },
  {
   "cell_type": "markdown",
   "metadata": {},
   "source": [
    "### Populating the database"
   ]
  },
  {
   "cell_type": "code",
   "execution_count": null,
   "metadata": {},
   "outputs": [],
   "source": [
    "user = 'keith'\n",
    "host = 'localhost'\n",
    "dbname = 'cypy2'\n",
    "conn = psycopg2.connect(user=user, host=host, dbname=dbname)\n",
    "cursor = conn.cursor()\n",
    "\n",
    "engine = sqlalchemy.create_engine('postgresql://%s@%s/%s' % (user, host, dbname))"
   ]
  },
  {
   "cell_type": "code",
   "execution_count": null,
   "metadata": {},
   "outputs": [],
   "source": [
    "pgutils.get_table_sizes(conn)"
   ]
  },
  {
   "cell_type": "code",
   "execution_count": null,
   "metadata": {},
   "outputs": [],
   "source": [
    "for table in pgutils.get_table_names(conn):\n",
    "    print('%s: %s' % (table, pgutils.get_column_names(conn, table)))"
   ]
  },
  {
   "cell_type": "code",
   "execution_count": null,
   "metadata": {},
   "outputs": [],
   "source": [
    "# truncate all tables\n",
    "for table in pgutils.get_table_names(conn):\n",
    "    pgutils.truncate_table(conn, table, freal=True)"
   ]
  },
  {
   "cell_type": "code",
   "execution_count": null,
   "metadata": {},
   "outputs": [],
   "source": [
    "a = m.activities()[-1]\n",
    "a.to_db(conn)"
   ]
  },
  {
   "cell_type": "code",
   "execution_count": null,
   "metadata": {},
   "outputs": [],
   "source": [
    "# attempt to insert all activities\n",
    "start = time.time()\n",
    "\n",
    "for activity in m.activities():\n",
    "    sys.stdout.write('\\r%s' % activity.metadata.activity_id)\n",
    "    activity.to_db(conn)\n",
    "\n",
    "print('\\nElapsed time: %0.2f' % (time.time() - start))"
   ]
  },
  {
   "cell_type": "markdown",
   "metadata": {},
   "source": [
    "### Loading all activities from the database"
   ]
  },
  {
   "cell_type": "code",
   "execution_count": null,
   "metadata": {},
   "outputs": [],
   "source": [
    "user = 'keith'\n",
    "host = 'localhost'\n",
    "dbname = 'cypy2'\n",
    "conn = psycopg2.connect(user=user, host=host, dbname=dbname)"
   ]
  },
  {
   "cell_type": "code",
   "execution_count": null,
   "metadata": {},
   "outputs": [],
   "source": [
    "m = cypy2.ActivityManager.from_db(conn)"
   ]
  },
  {
   "cell_type": "code",
   "execution_count": null,
   "metadata": {},
   "outputs": [],
   "source": [
    "m.metadata().shape"
   ]
  },
  {
   "cell_type": "code",
   "execution_count": null,
   "metadata": {},
   "outputs": [],
   "source": [
    "a = m.activities()[-1]"
   ]
  },
  {
   "cell_type": "markdown",
   "metadata": {},
   "source": [
    "### Insert processed data from all activities"
   ]
  },
  {
   "cell_type": "code",
   "execution_count": null,
   "metadata": {},
   "outputs": [],
   "source": [
    "user = 'keith'\n",
    "host = 'localhost'\n",
    "dbname = 'cypy2_2'\n",
    "conn = psycopg2.connect(user=user, host=host, dbname=dbname)"
   ]
  },
  {
   "cell_type": "code",
   "execution_count": null,
   "metadata": {},
   "outputs": [],
   "source": [
    "a = m.activities()[-1]\n",
    "pgutils.insert_value(conn, 'metadata', {'activity_id': a.metadata.activity_id})"
   ]
  },
  {
   "cell_type": "code",
   "execution_count": null,
   "metadata": {},
   "outputs": [],
   "source": [
    "a.to_db(conn)"
   ]
  },
  {
   "cell_type": "code",
   "execution_count": null,
   "metadata": {},
   "outputs": [],
   "source": [
    "# insert processed data from all activities\n",
    "start = time.time()\n",
    "\n",
    "for activity in m.activities():\n",
    "    sys.stdout.write('\\r%s' % activity.metadata.activity_id)\n",
    "    activity.to_db(conn)\n",
    "\n",
    "print('\\nElapsed time: %0.2f' % (time.time() - start))"
   ]
  },
  {
   "cell_type": "markdown",
   "metadata": {},
   "source": [
    "### Database debugging"
   ]
  },
  {
   "cell_type": "code",
   "execution_count": null,
   "metadata": {},
   "outputs": [],
   "source": [
    "user = 'keith'\n",
    "host = 'localhost'\n",
    "dbname = 'cypy2_test'\n",
    "conn = psycopg2.connect(user=user, host=host, dbname=dbname)"
   ]
  },
  {
   "cell_type": "code",
   "execution_count": null,
   "metadata": {},
   "outputs": [],
   "source": [
    "selector={'activity_id': '20191122010203', 'date_created': '2019-03-12 22:23:53.694945-07'}"
   ]
  },
  {
   "cell_type": "code",
   "execution_count": null,
   "metadata": {},
   "outputs": [],
   "source": [
    "kwargs = {'table': sql.Identifier('proc_records')}\n",
    "kwargs['column'] = sql.SQL('*')\n",
    "\n",
    "cols, vals = list(selector.keys()), list(selector.values())\n",
    "kwargs.update({\n",
    "    'filter_columns': sql.SQL(', ').join([sql.Identifier(col) for col in cols]),\n",
    "    'filter_values': sql.SQL(', ').join([sql.Literal(val) for val in vals])\n",
    "})\n",
    "query = sql.SQL('select {column} from {table} where ({filter_columns}) = (%s, %s)').format(**kwargs)\n",
    "query.as_string(conn)"
   ]
  },
  {
   "cell_type": "code",
   "execution_count": null,
   "metadata": {},
   "outputs": [],
   "source": [
    "pgutils.execute_query(conn, query, vals)"
   ]
  },
  {
   "cell_type": "code",
   "execution_count": null,
   "metadata": {},
   "outputs": [],
   "source": [
    "pgutils.insert_value(conn, 'metadata', {'activity_id': 'testid'})"
   ]
  },
  {
   "cell_type": "code",
   "execution_count": null,
   "metadata": {},
   "outputs": [],
   "source": [
    "pgutils.insert_value(conn, 'proc_records', {'activity_id': 'testid', 'commit_hash': 'testhash'})"
   ]
  },
  {
   "cell_type": "code",
   "execution_count": null,
   "metadata": {},
   "outputs": [],
   "source": [
    "d = pd.read_sql('select activity_id, date_created from proc_records', conn)\n",
    "d.sort_values(by='date_created', ascending=False).iloc[0]"
   ]
  },
  {
   "cell_type": "code",
   "execution_count": null,
   "metadata": {},
   "outputs": [],
   "source": [
    "conn.commit()"
   ]
  },
  {
   "cell_type": "code",
   "execution_count": null,
   "metadata": {},
   "outputs": [],
   "source": [
    "conn.rollback()"
   ]
  },
  {
   "cell_type": "code",
   "execution_count": null,
   "metadata": {},
   "outputs": [],
   "source": [
    "# all activity_ids\n",
    "pgutils.get_rows(conn, 'metadata', column='activity_id').values.flatten()"
   ]
  },
  {
   "cell_type": "code",
   "execution_count": null,
   "metadata": {},
   "outputs": [],
   "source": [
    "# events for one activity\n",
    "pgutils.get_rows(conn, 'raw_events', selector={'activity_id': a.metadata.activity_id})"
   ]
  },
  {
   "cell_type": "code",
   "execution_count": null,
   "metadata": {},
   "outputs": [],
   "source": [
    "# retrieve the timepoints as a dataframe\n",
    "d = pgutils.get_rows(conn, 'raw_records', selector={'activity_id', a.metadata.activity_id})\n",
    "pd.DataFrame(d.to_dict(orient='records').pop())"
   ]
  },
  {
   "cell_type": "code",
   "execution_count": null,
   "metadata": {},
   "outputs": [],
   "source": [
    "# query debugging\n",
    "query = sql.SQL('select {column} from {table}').format(**{\n",
    "    'table': sql.Identifier('tablename'),\n",
    "    'column': sql.SQL('*'),\n",
    "})\n",
    "\n",
    "query.as_string(conn)"
   ]
  },
  {
   "cell_type": "markdown",
   "metadata": {},
   "source": [
    "### Analyzing timepoints"
   ]
  },
  {
   "cell_type": "code",
   "execution_count": null,
   "metadata": {},
   "outputs": [],
   "source": [
    "# cat all timepoints from one column\n",
    "d = pd.read_sql('select heart_rate from raw_records where heart_rate is not null', conn)\n",
    "vals = np.concatenate(tuple(d.heart_rate.values))"
   ]
  },
  {
   "cell_type": "code",
   "execution_count": null,
   "metadata": {},
   "outputs": [],
   "source": [
    "print('num nan/num total: %s/%s' % (np.isnan(vals).sum(), len(vals)))\n",
    "\n",
    "vals[pd.isna(vals)] = np.nan\n",
    "vals = vals.astype(float)"
   ]
  },
  {
   "cell_type": "code",
   "execution_count": null,
   "metadata": {},
   "outputs": [],
   "source": [
    "# for heart rate\n",
    "_ = plt.hist(vals[~np.isnan(vals)], bins=np.arange(60, 190, 2))"
   ]
  },
  {
   "cell_type": "code",
   "execution_count": null,
   "metadata": {},
   "outputs": [],
   "source": [
    "# for power\n",
    "_ = plt.hist(vals[~np.isnan(vals) & (vals < 500) & (vals > 0)], bins=np.arange(0, 500, 2))"
   ]
  },
  {
   "cell_type": "code",
   "execution_count": null,
   "metadata": {},
   "outputs": [],
   "source": []
  }
 ],
 "metadata": {
  "kernelspec": {
   "display_name": "Python 3",
   "language": "python",
   "name": "python3"
  },
  "language_info": {
   "codemirror_mode": {
    "name": "ipython",
    "version": 3
   },
   "file_extension": ".py",
   "mimetype": "text/x-python",
   "name": "python",
   "nbconvert_exporter": "python",
   "pygments_lexer": "ipython3",
   "version": "3.6.5"
  }
 },
 "nbformat": 4,
 "nbformat_minor": 2
}
