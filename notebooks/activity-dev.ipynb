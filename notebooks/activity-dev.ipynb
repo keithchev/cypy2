{
 "cells": [
  {
   "cell_type": "markdown",
   "metadata": {},
   "source": [
    "# Developing Activity class\n",
    "__Keith Cheveralls__<br>\n",
    "__March 2019__\n",
    "\n"
   ]
  },
  {
   "cell_type": "code",
   "execution_count": null,
   "metadata": {},
   "outputs": [],
   "source": [
    "import os\n",
    "import re\n",
    "import sys\n",
    "import gzip\n",
    "import time\n",
    "import pickle\n",
    "import datetime\n",
    "import numpy as np\n",
    "from scipy import stats\n",
    "import pandas as pd\n",
    "\n",
    "import fitparse\n",
    "from fitparse import FitFile\n",
    "from matplotlib import pyplot as plt\n",
    "\n",
    "%matplotlib \n",
    "%load_ext autoreload\n",
    "%autoreload 2"
   ]
  },
  {
   "cell_type": "code",
   "execution_count": null,
   "metadata": {},
   "outputs": [],
   "source": [
    "sys.path.append('../')\n",
    "import cypy2\n",
    "\n",
    "root = '/home/keith/Downloads/export_7989839-1'\n",
    "\n",
    "wahoo_example = '2326365683.fit.gz'\n",
    "garmin_example = '2122584483.fit.gz'\n",
    "garmin_indoor_example = '2324139976.fit.gz'"
   ]
  },
  {
   "cell_type": "code",
   "execution_count": null,
   "metadata": {},
   "outputs": [],
   "source": [
    "cypy2.ActivityManager"
   ]
  },
  {
   "cell_type": "markdown",
   "metadata": {},
   "source": [
    "### Load a single activity directly from a FIT file"
   ]
  },
  {
   "cell_type": "code",
   "execution_count": null,
   "metadata": {},
   "outputs": [],
   "source": [
    "a = cypy2.Activity.from_fit(os.path.join(root, 'activities', garmin_example))"
   ]
  },
  {
   "cell_type": "code",
   "execution_count": null,
   "metadata": {},
   "outputs": [],
   "source": [
    "a.metadata"
   ]
  },
  {
   "cell_type": "markdown",
   "metadata": {},
   "source": [
    "### Load all activities from cached strava export"
   ]
  },
  {
   "cell_type": "code",
   "execution_count": null,
   "metadata": {},
   "outputs": [],
   "source": [
    "strava_export = cypy2.StravaExportManager(root, from_cache=True)"
   ]
  },
  {
   "cell_type": "code",
   "execution_count": null,
   "metadata": {},
   "outputs": [],
   "source": [
    "m = cypy2.ActivityManager.from_strava_export(strava_export)"
   ]
  },
  {
   "cell_type": "code",
   "execution_count": null,
   "metadata": {},
   "outputs": [],
   "source": [
    "cypy2.Activity.id_from_fit(file_id=pd.Series(dict(time_created=pd.to_datetime('2018-01-02 3:45:56'))))"
   ]
  },
  {
   "cell_type": "code",
   "execution_count": null,
   "metadata": {},
   "outputs": [],
   "source": [
    "cypy2.Activity.id_from_fit(file_id=pd.Series(dict(time_created=pd.to_datetime('2018-01-02'))))"
   ]
  },
  {
   "cell_type": "code",
   "execution_count": null,
   "metadata": {},
   "outputs": [],
   "source": [
    "# check activity types\n",
    "m.metadata().activity_type.unique()"
   ]
  },
  {
   "cell_type": "code",
   "execution_count": null,
   "metadata": {},
   "outputs": [],
   "source": [
    "# count sensor flags by device\n",
    "md = m.metadata()\n",
    "pd.concat((md.groupby('device_model').count().activity_id, md.groupby('device_model').sum()), axis=1)"
   ]
  },
  {
   "cell_type": "code",
   "execution_count": null,
   "metadata": {},
   "outputs": [],
   "source": [
    "# rides with power but without heart rate\n",
    "m.metadata(activity_type='ride', heart_rate_flag=False, power_flag=True)"
   ]
  },
  {
   "cell_type": "code",
   "execution_count": null,
   "metadata": {},
   "outputs": [],
   "source": [
    "# rides with heart rate but without an antplus_device_type column in device_info\n",
    "# these *should* be only runs from fenix3\n",
    "ids_wo_antplus = []\n",
    "for a in m.activities(activity_type='run'):\n",
    "    if 'antplus_device_type' not in a._fit_data['device_info'].columns:\n",
    "        if 'heart_rate' in a._fit_data['record'].columns:\n",
    "            ids_wo_antplus.append(a.metadata['activity_id'])\n",
    "            \n",
    "len(ids_wo_antplus)"
   ]
  },
  {
   "cell_type": "code",
   "execution_count": null,
   "metadata": {},
   "outputs": [],
   "source": [
    "# rides with cadence but no power - should all be from fr220\n",
    "ids_w_cad_wo_power = []\n",
    "for a in m.activities(activity_type='ride'):\n",
    "    columns = a._fit_data['record'].columns\n",
    "    if ('cadence' in columns) and ('power' not in columns):\n",
    "        ids_w_cad_wo_power.append(a.metadata['activity_id'])\n",
    "        print(a.metadata['device_model'])\n",
    "len(ids_w_cad_wo_power)"
   ]
  },
  {
   "cell_type": "code",
   "execution_count": null,
   "metadata": {},
   "outputs": [],
   "source": [
    "m.activities()[-1]._fit_data['event']"
   ]
  },
  {
   "cell_type": "code",
   "execution_count": null,
   "metadata": {},
   "outputs": [],
   "source": [
    "# cat all messages for some activities\n",
    "dcat = pd.concat(tuple([a._fit_data['device_info'] for a in m.activities(device_model='edge520')]))"
   ]
  },
  {
   "cell_type": "code",
   "execution_count": null,
   "metadata": {},
   "outputs": [],
   "source": [
    "dcat"
   ]
  },
  {
   "cell_type": "code",
   "execution_count": null,
   "metadata": {},
   "outputs": [],
   "source": []
  }
 ],
 "metadata": {
  "kernelspec": {
   "display_name": "Python 3",
   "language": "python",
   "name": "python3"
  },
  "language_info": {
   "codemirror_mode": {
    "name": "ipython",
    "version": 3
   },
   "file_extension": ".py",
   "mimetype": "text/x-python",
   "name": "python",
   "nbconvert_exporter": "python",
   "pygments_lexer": "ipython3",
   "version": "3.6.5"
  }
 },
 "nbformat": 4,
 "nbformat_minor": 2
}
