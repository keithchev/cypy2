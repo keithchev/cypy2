{
 "cells": [
  {
   "cell_type": "code",
   "execution_count": null,
   "metadata": {},
   "outputs": [],
   "source": [
    "import os\n",
    "import re\n",
    "import sys\n",
    "import time\n",
    "import datetime\n",
    "import psycopg2\n",
    "import numpy as np\n",
    "import pandas as pd\n",
    "import seaborn as sns\n",
    "\n",
    "from scipy import stats\n",
    "from matplotlib import pyplot as plt"
   ]
  },
  {
   "cell_type": "code",
   "execution_count": null,
   "metadata": {},
   "outputs": [],
   "source": [
    "%matplotlib \n",
    "%load_ext autoreload\n",
    "%autoreload 2"
   ]
  },
  {
   "cell_type": "code",
   "execution_count": null,
   "metadata": {},
   "outputs": [],
   "source": [
    "user = 'keith'\n",
    "host = 'localhost'\n",
    "dbname = 'cypy2'\n",
    "conn = psycopg2.connect(user=user, host=host, dbname=dbname)"
   ]
  },
  {
   "cell_type": "markdown",
   "metadata": {},
   "source": [
    "### Analyzing timepoints"
   ]
  },
  {
   "cell_type": "code",
   "execution_count": null,
   "metadata": {},
   "outputs": [],
   "source": [
    "d = pd.read_sql(\n",
    "    'select strava_date as date, heart_rate, power, cadence, speed from proc_records r'\n",
    "    ' left join metadata m on m.activity_id = r.activity_id'\n",
    "    ' where activity_type = \\'ride\\' and bike_name = \\'giant-defy-advanced\\'',\n",
    "    conn)\n",
    "d = d.dropna(axis=0, how='any')"
   ]
  },
  {
   "cell_type": "code",
   "execution_count": null,
   "metadata": {},
   "outputs": [],
   "source": [
    "d['year'] = [t.year for t in d.date]\n",
    "year = np.concatenate(tuple([[row.year] * len(row.speed) for ind, row in d.iterrows()]))\n",
    "d.drop(['year'], axis=1, inplace=True)"
   ]
  },
  {
   "cell_type": "code",
   "execution_count": null,
   "metadata": {},
   "outputs": [],
   "source": [
    "data = []\n",
    "for column in d.columns:\n",
    "    if column=='date': continue\n",
    "    vals = np.concatenate(d[column].values)\n",
    "    data.append(vals)\n",
    "data = np.array(data)"
   ]
  },
  {
   "cell_type": "code",
   "execution_count": null,
   "metadata": {},
   "outputs": [],
   "source": [
    "data.shape"
   ]
  },
  {
   "cell_type": "code",
   "execution_count": null,
   "metadata": {},
   "outputs": [],
   "source": [
    "mask = np.any(pd.isna(data), axis=0)\n",
    "data = data[:, ~mask].astype(float)\n",
    "year = year[~mask]"
   ]
  },
  {
   "cell_type": "code",
   "execution_count": null,
   "metadata": {},
   "outputs": [],
   "source": [
    "# hack to correct for fitparse bug\n",
    "speed = data[3, :]\n",
    "speed[speed > 30] /= 1000\n",
    "data[3, :] = speed"
   ]
  },
  {
   "cell_type": "code",
   "execution_count": null,
   "metadata": {},
   "outputs": [],
   "source": [
    "df = pd.DataFrame(data=data.transpose(), columns=['hrt', 'pwr', 'cad', 'spd'])\n",
    "df['year'] = year"
   ]
  },
  {
   "cell_type": "code",
   "execution_count": null,
   "metadata": {},
   "outputs": [],
   "source": [
    "hrt = df.hrt\n",
    "power = df.pwr\n",
    "hrt = hrt[power > 0]\n",
    "power = power[power > 0]\n",
    "\n",
    "_ = plt.hist2d(hrt, power, bins=[np.arange(80, 190, 2), np.arange(50, 400, 10)])"
   ]
  },
  {
   "cell_type": "code",
   "execution_count": null,
   "metadata": {},
   "outputs": [],
   "source": [
    "bins= {\n",
    "    'cad': np.arange(60, 90, 1),\n",
    "    'pwr': np.arange(50, 400, 10),\n",
    "    'spd': np.arange(2, 6, .03),\n",
    "    'hrt': np.arange(80, 190, 2),\n",
    "}"
   ]
  },
  {
   "cell_type": "code",
   "execution_count": null,
   "metadata": {},
   "outputs": [],
   "source": [
    "def hist2d(df, x_col, y_col, year=None):\n",
    "        \n",
    "    df = df.copy()\n",
    "    if year:\n",
    "        df = df.loc[df.year==year]\n",
    "\n",
    "    x_vals, y_vals = df[x_col], df[y_col]\n",
    "    x_bins, y_bins = bins[x_col], bins[y_col]\n",
    "    \n",
    "    mask = (x_vals > min(x_bins)) & (x_vals < max(x_bins)) & (y_vals > min(y_bins)) & (y_vals < max(y_bins))\n",
    "    x_vals, y_vals = x_vals[mask], y_vals[mask]\n",
    "\n",
    "    h = plt.hist2d(x_vals, y_vals, bins=[x_bins, y_bins])\n",
    "    hist = h[0]\n",
    "    hist /= hist.sum()\n",
    "    return hist.transpose()"
   ]
  },
  {
   "cell_type": "code",
   "execution_count": null,
   "metadata": {},
   "outputs": [],
   "source": [
    "x_col, y_col = 'hrt', 'pwr'\n",
    "hists = {year: hist2d(df, x_col, y_col, 2000 + year) for year in [16, 17, 18]}"
   ]
  },
  {
   "cell_type": "code",
   "execution_count": null,
   "metadata": {},
   "outputs": [],
   "source": [
    "def autogain(im, minn=None, maxx=None):\n",
    "    im = im.astype(float)\n",
    "    \n",
    "    if not minn:\n",
    "        minn = im.min()\n",
    "    if not maxx:\n",
    "        maxx = im.max()\n",
    "        \n",
    "    im -= minn\n",
    "    im[im < 0] = 0\n",
    "\n",
    "    im /= (maxx - minn)\n",
    "    im[im > 1] = 1\n",
    "\n",
    "    return im"
   ]
  },
  {
   "cell_type": "code",
   "execution_count": null,
   "metadata": {},
   "outputs": [],
   "source": [
    "blue, orange, green, red = sns.color_palette()[:4]"
   ]
  },
  {
   "cell_type": "code",
   "execution_count": null,
   "metadata": {},
   "outputs": [],
   "source": [
    "def add_color(im_rgb, im_bw, color):\n",
    "    h = autogain(im_bw)\n",
    "    for ind, weight in enumerate(color):\n",
    "        im_rgb[:, :, ind] += im_bw * weight\n",
    "    return im_rgb\n",
    "\n",
    "# im = np.concatenate((normz(h[16])[:, :, None], normz(h[17])[:, :, None], normz(h[18])[:, :, None]), axis=2)"
   ]
  },
  {
   "cell_type": "code",
   "execution_count": null,
   "metadata": {},
   "outputs": [],
   "source": [
    "sz = hists[16].shape\n",
    "\n",
    "extent = [min(bins[x_col]), max(bins[x_col]), min(bins[y_col]), max(bins[y_col])]\n",
    "\n",
    "# initialize RGB image\n",
    "im = np.zeros(list(sz) + [3])\n",
    "\n",
    "for h, color in zip(hists.values(), [blue, green, red]):\n",
    "    im = add_color(im, h, color)\n",
    "    \n",
    "plt.figure()\n",
    "plt.imshow(autogain(im[::-1, :, :])**1, aspect='auto', interpolation=None, extent=extent)"
   ]
  },
  {
   "cell_type": "code",
   "execution_count": null,
   "metadata": {},
   "outputs": [],
   "source": [
    "im = hists[18] - hists[17]\n",
    "plt.imshow(autogain(im[::-1, :], minn=-1, maxx=1), aspect='auto', extent=extent)"
   ]
  },
  {
   "cell_type": "code",
   "execution_count": null,
   "metadata": {},
   "outputs": [],
   "source": [
    "plt.imshow(np.log(h2016[0] + 1).transpose(), aspect='auto')"
   ]
  },
  {
   "cell_type": "code",
   "execution_count": null,
   "metadata": {},
   "outputs": [],
   "source": [
    "year = 2016\n",
    "cad = df.loc[df.year==year].cad\n",
    "speed = df.loc[df.year==year].spd\n",
    "speed = speed[cad > 0]\n",
    "cad = cad[cad > 0]\n",
    "\n",
    "fig, axs = plt.subplots(15, 1)\n",
    "for ind, ax in enumerate(axs):\n",
    "    h, edges = np.histogram(speed[cad==(60 + ind*2)], bins=np.arange(2, 6, .05))\n",
    "    h = h/h.sum()\n",
    "    ax.plot(edges[1:], h, linewidth=1)\n",
    "    ax.set_ylim([0, .1])"
   ]
  },
  {
   "cell_type": "markdown",
   "metadata": {},
   "source": [
    "### Strava-like heatmap"
   ]
  },
  {
   "cell_type": "code",
   "execution_count": null,
   "metadata": {},
   "outputs": [],
   "source": [
    "d = dbutils.execute_query(conn,\n",
    "    '''select ST_AsGeoJSON(ST_Collect(ST_Simplify(geom, .00001)))\n",
    "        from proc_records, metadata\n",
    "        where proc_records.activity_id = metadata.activity_id\n",
    "        and metadata.activity_type = 'ride'\n",
    "        and ST_Intersects(ST_MakeEnvelope(-122.3, 37.86, -122.15, 37.923, 4326), geom)\n",
    "    ''')"
   ]
  },
  {
   "cell_type": "code",
   "execution_count": null,
   "metadata": {},
   "outputs": [],
   "source": [
    "coords = json.loads(d[0][0])['coordinates']\n",
    "coords_cat = np.concatenate(tuple([np.array(coord) for coord in coords]), axis=0)\n",
    "coords_cat.shape"
   ]
  },
  {
   "cell_type": "code",
   "execution_count": null,
   "metadata": {},
   "outputs": [],
   "source": [
    "for coord in coords:\n",
    "    coord = np.array(coord)\n",
    "    plt.plot(coord[:, 0], coord[:, 1])"
   ]
  },
  {
   "cell_type": "code",
   "execution_count": null,
   "metadata": {},
   "outputs": [],
   "source": [
    "r = plt.hist2d(coords_cat[:, 0], coords_cat[:, 1], bins=900)"
   ]
  },
  {
   "cell_type": "code",
   "execution_count": null,
   "metadata": {},
   "outputs": [],
   "source": [
    "plt.figure()\n",
    "plt.imshow(np.log((r[0]).transpose()[::-1, :] + 1))"
   ]
  },
  {
   "cell_type": "code",
   "execution_count": null,
   "metadata": {},
   "outputs": [],
   "source": []
  }
 ],
 "metadata": {
  "kernelspec": {
   "display_name": "cypyenv",
   "language": "python",
   "name": "cypyenv"
  },
  "language_info": {
   "codemirror_mode": {
    "name": "ipython",
    "version": 3
   },
   "file_extension": ".py",
   "mimetype": "text/x-python",
   "name": "python",
   "nbconvert_exporter": "python",
   "pygments_lexer": "ipython3",
   "version": "3.6.5"
  }
 },
 "nbformat": 4,
 "nbformat_minor": 2
}
