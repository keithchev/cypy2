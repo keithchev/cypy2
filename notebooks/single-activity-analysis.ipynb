{
 "cells": [
  {
   "cell_type": "markdown",
   "metadata": {},
   "source": [
    "### Analysis of single activities\n",
    "\n",
    "A record of preliminary experiments to plot autocorrelation functions and develop models to predict an expensive measurement (e.g., power) from common/cheap measurements (e.g., VAM and speed). "
   ]
  },
  {
   "cell_type": "code",
   "execution_count": null,
   "metadata": {},
   "outputs": [],
   "source": [
    "import os\n",
    "import re\n",
    "import sys\n",
    "import time\n",
    "import datetime\n",
    "import psycopg2\n",
    "import numpy as np\n",
    "import pandas as pd\n",
    "import seaborn as sns\n",
    "\n",
    "from scipy import stats\n",
    "import matplotlib as mpl\n",
    "from matplotlib import pyplot as plt"
   ]
  },
  {
   "cell_type": "code",
   "execution_count": null,
   "metadata": {},
   "outputs": [],
   "source": [
    "sys.path.insert(0, '../')\n",
    "import cypy2"
   ]
  },
  {
   "cell_type": "code",
   "execution_count": null,
   "metadata": {},
   "outputs": [],
   "source": [
    "from cycler import cycler\n",
    "red, blue, green, purple, orange, yellow, brown, pink, gray  = sns.color_palette('Set1')\n",
    "mpl.rcParams['axes.prop_cycle'] = cycler(color=[blue, orange, green, red, brown, gray])\n",
    "mpl.rcParams['figure.figsize'] = [12, 3]"
   ]
  },
  {
   "cell_type": "code",
   "execution_count": null,
   "metadata": {},
   "outputs": [],
   "source": [
    "%matplotlib \n",
    "%load_ext autoreload\n",
    "%autoreload 2"
   ]
  },
  {
   "cell_type": "code",
   "execution_count": null,
   "metadata": {},
   "outputs": [],
   "source": [
    "user = 'keith'\n",
    "host = 'localhost'\n",
    "dbname = 'cypy2'\n",
    "conn = psycopg2.connect(user=user, host=host, dbname=dbname)"
   ]
  },
  {
   "cell_type": "code",
   "execution_count": null,
   "metadata": {},
   "outputs": [],
   "source": [
    "md = pd.read_sql('select * from metadata order by strava_timestamp desc', conn)"
   ]
  },
  {
   "cell_type": "code",
   "execution_count": null,
   "metadata": {},
   "outputs": [],
   "source": [
    "md.loc[md.strava_title.apply(lambda s: s.find('3x10') != -1)]"
   ]
  },
  {
   "cell_type": "code",
   "execution_count": null,
   "metadata": {},
   "outputs": [],
   "source": [
    "# 3x SPD rides from 2016 - 2019\n",
    "a_3x10_2019 = cypy2.Activity.from_db(conn, '20190301001401')\n",
    "a_3x10_2018 = cypy2.Activity.from_db(conn, '20181125232717')\n",
    "a_3x10_2017 = cypy2.Activity.from_db(conn, '20171202231443')\n",
    "a_3x10_2016 = cypy2.Activity.from_db(conn, '20161027001349')\n",
    "\n",
    "# 2018 horseshoe meadows road\n",
    "a_hmr = cypy2.Activity.from_db(conn, '20180923163103')"
   ]
  },
  {
   "cell_type": "code",
   "execution_count": null,
   "metadata": {},
   "outputs": [],
   "source": [
    "activities = [a_3x10_2016, a_3x10_2017, a_3x10_2018, a_3x10_2019]"
   ]
  },
  {
   "cell_type": "code",
   "execution_count": null,
   "metadata": {},
   "outputs": [],
   "source": [
    "a.plot(['power', 'vam', 'altitude'], xmode='seconds', overlay=False, xrange=[], halflife=1)"
   ]
  },
  {
   "cell_type": "code",
   "execution_count": null,
   "metadata": {},
   "outputs": [],
   "source": [
    "for a in activities:\n",
    "    a.plot(['power', 'vam'], xmode='seconds', overlay=True, xrange=[], halflife=5)\n",
    "    plt.gca().set_title(a.metadata.activity_id)"
   ]
  },
  {
   "cell_type": "code",
   "execution_count": null,
   "metadata": {},
   "outputs": [],
   "source": [
    "a_hmr.plot(['power', 'vam'], xmode='seconds', overlay=True, xrange=[], halflife=5)"
   ]
  },
  {
   "cell_type": "code",
   "execution_count": null,
   "metadata": {},
   "outputs": [],
   "source": [
    "a_hmr.plot(['altitude'], xmode='seconds')"
   ]
  },
  {
   "cell_type": "markdown",
   "metadata": {},
   "source": [
    "Figuring out why model to estimate power from VAM and speed using SPD rides as training data (see below) fails to predict power for HMR ride. Answer is likely a combination of altimeter error and greater bike weight. "
   ]
  },
  {
   "cell_type": "code",
   "execution_count": null,
   "metadata": {},
   "outputs": [],
   "source": [
    "(\n",
    "    # VAM correction multipler for HMR (max elevation was ~9600 instead of 10000)\n",
    "    (9930 - 3850)/(9600 - 3850),\n",
    "\n",
    "    # VAM weight multiplier (using Lynskey + backpack)\n",
    "    80/72\n",
    ")"
   ]
  },
  {
   "cell_type": "code",
   "execution_count": null,
   "metadata": {},
   "outputs": [],
   "source": [
    "plt.plot(a_hmr.records('proc').power.ewm(halflife=10).mean())\n",
    "plt.plot(a_hmr.records('proc').vam.ewm(halflife=10).mean() * (270/1300) * 1.06 * (80/72))\n",
    "\n",
    "plt.gca().set_ylim([0, 300])"
   ]
  },
  {
   "cell_type": "code",
   "execution_count": null,
   "metadata": {},
   "outputs": [],
   "source": [
    "plt.plot(np.diff(a_3x10_2018.records('proc').altitude.values[500:800]))\n",
    "plt.plot(np.diff(a_3x10_2019.records('proc').altitude.values[500:800]))"
   ]
  },
  {
   "cell_type": "code",
   "execution_count": null,
   "metadata": {},
   "outputs": [],
   "source": [
    "plt.plot((a_3x10_2018.records('proc').vam.values))\n",
    "plt.plot((a_3x10_2019.records('proc').vam.values))\n",
    "plt.gca().set_ylim([0, 1800])"
   ]
  },
  {
   "cell_type": "markdown",
   "metadata": {},
   "source": [
    "### Histograms"
   ]
  },
  {
   "cell_type": "code",
   "execution_count": null,
   "metadata": {},
   "outputs": [],
   "source": [
    "bins= {\n",
    "    'speed': np.arange(5, 15, .3),\n",
    "    'vam': np.arange(500, 1600, 50),\n",
    "    'cadence': np.arange(60, 90, 1),\n",
    "    'power': np.arange(200, 320, 5),\n",
    "    'heart_rate': np.arange(120, 180, 2),\n",
    "}"
   ]
  },
  {
   "cell_type": "code",
   "execution_count": null,
   "metadata": {},
   "outputs": [],
   "source": [
    "a = a_3x10_2019\n",
    "columns = ['power', 'vam']\n",
    "x_vals, y_vals = [a.records('proc')[c].values for c in columns]\n",
    "x_bins, y_bins = [bins[c] for c in columns]\n",
    "\n",
    "mask = (x_vals > min(x_bins)) & (x_vals < max(x_bins)) & (y_vals > min(y_bins)) & (y_vals < max(y_bins))\n",
    "x_vals, y_vals = x_vals[mask], y_vals[mask]\n",
    "    \n",
    "h = plt.hist2d(x_vals, y_vals, bins=(x_bins, y_bins))"
   ]
  },
  {
   "cell_type": "markdown",
   "metadata": {},
   "source": [
    "### Histograms of adjacent timepoints"
   ]
  },
  {
   "cell_type": "code",
   "execution_count": null,
   "metadata": {},
   "outputs": [],
   "source": [
    "offset = 1\n",
    "column = 'power'\n",
    "\n",
    "vals = a.records('proc')[column].values\n",
    "vals = vals[~np.isnan(vals)]\n",
    "h = plt.hist2d(vals[offset:], vals[:-offset], bins=bins[column])"
   ]
  },
  {
   "cell_type": "markdown",
   "metadata": {},
   "source": [
    "### Autocorrelation functions"
   ]
  },
  {
   "cell_type": "code",
   "execution_count": null,
   "metadata": {},
   "outputs": [],
   "source": [
    "def autocorr(x, max_offset, stepsize=1, drop_zeros=True):\n",
    "    \n",
    "    offsets = np.arange(1, max_offset, stepsize).astype(int)\n",
    "    \n",
    "    corrs = []\n",
    "    for offset in offsets:\n",
    "        vals = np.vstack((x[offset:], x[:-offset]))\n",
    "        \n",
    "        # drop nans\n",
    "        vals = vals[:, ~np.isnan(vals).any(axis=0)]\n",
    "        \n",
    "        if drop_zeros:\n",
    "            vals = vals[:, vals.all(axis=0)]\n",
    "        \n",
    "        cov = np.cov(vals[0, :], vals[1, :])\n",
    "        corrs.append(cov[0, 1] / np.sqrt(cov[0, 0] * cov[1, 1]))\n",
    "        \n",
    "    return offsets, corrs"
   ]
  },
  {
   "cell_type": "code",
   "execution_count": null,
   "metadata": {},
   "outputs": [],
   "source": [
    "for col in ['heart_rate', 'power', 'cadence', 'speed']:\n",
    "    plt.plot(*autocorr(recsp[col].values, 120, 1, drop_zeros=True), marker='.', label=col)\n",
    "plt.legend()\n",
    "plt.gca().set_ylim([-.1, 1.1])"
   ]
  },
  {
   "cell_type": "markdown",
   "metadata": {},
   "source": [
    "### Models to predict future values or other time series"
   ]
  },
  {
   "cell_type": "code",
   "execution_count": null,
   "metadata": {},
   "outputs": [],
   "source": [
    "from sklearn import ensemble\n",
    "from sklearn import linear_model\n",
    "from sklearn import model_selection"
   ]
  },
  {
   "cell_type": "code",
   "execution_count": null,
   "metadata": {},
   "outputs": [],
   "source": [
    "def make_windows(records, columns, window_size, step_size, halflife=None):\n",
    "    \n",
    "    windows = []\n",
    "    for ind, column in enumerate(columns):\n",
    "        vals = records[column]\n",
    "        if halflife:\n",
    "            vals = vals.ewm(halflife=halflife).mean()\n",
    "\n",
    "        _windows = cypy2.utils.sliding_window(vals, window_size, step_size)\n",
    "        _mask = np.isnan(_windows).any(axis=1)\n",
    "        windows.append(_windows)\n",
    "        if ind==0:\n",
    "            mask = _mask\n",
    "        else:\n",
    "            mask += _mask\n",
    "    \n",
    "    mask = mask.astype(bool)\n",
    "    windows = [w[~mask, :] for w in windows]\n",
    "    return windows"
   ]
  },
  {
   "cell_type": "markdown",
   "metadata": {},
   "source": [
    "### Autoregressive model"
   ]
  },
  {
   "cell_type": "code",
   "execution_count": null,
   "metadata": {},
   "outputs": [],
   "source": [
    "windows, = make_windows(recsp, ['heart_rate'], 10, 1)"
   ]
  },
  {
   "cell_type": "code",
   "execution_count": null,
   "metadata": {},
   "outputs": [],
   "source": [
    "X = windows[:, :-1]\n",
    "y = windows[:, -1]\n",
    "X_train, X_test, y_train, y_test = model_selection.train_test_split(X, y, train_size=.8)"
   ]
  },
  {
   "cell_type": "code",
   "execution_count": null,
   "metadata": {},
   "outputs": [],
   "source": [
    "m = linear_model.LinearRegression()\n",
    "m.fit(X_train, y_train)\n",
    "m.coef_"
   ]
  },
  {
   "cell_type": "code",
   "execution_count": null,
   "metadata": {},
   "outputs": [],
   "source": [
    "yp = m.predict(X)\n",
    "plt.plot(y)\n",
    "plt.plot(yp)"
   ]
  },
  {
   "cell_type": "markdown",
   "metadata": {},
   "source": [
    "### Predict power from VAM and speed"
   ]
  },
  {
   "cell_type": "code",
   "execution_count": null,
   "metadata": {},
   "outputs": [],
   "source": [
    "window_size = 10\n",
    "activities_train = activities[1:]\n",
    "activity_test = activities[0]"
   ]
  },
  {
   "cell_type": "code",
   "execution_count": null,
   "metadata": {},
   "outputs": [],
   "source": [
    "# train\n",
    "recs = pd.concat(tuple([a.records('proc') for a in activities]), axis=0)\n",
    "vam_wins, pwr_wins, speed_wins = make_windows(\n",
    "    recs, ['vam', 'power', 'speed'], window_size, window_size, halflife=10)\n",
    "\n",
    "X_train = np.concatenate((vam_wins, speed_wins), axis=1)\n",
    "y_train = pwr_wins[:, -1]\n",
    "\n",
    "# test \n",
    "recs = activity_test.records('proc')\n",
    "vam_wins, pwr_wins, speed_wins = make_windows(\n",
    "    recs, ['vam', 'power', 'speed'], window_size, window_size, halflife=10)\n",
    "\n",
    "X_test = np.concatenate((vam_wins, speed_wins), axis=1)\n",
    "y_test = pwr_wins[:, -1]"
   ]
  },
  {
   "cell_type": "code",
   "execution_count": null,
   "metadata": {},
   "outputs": [],
   "source": [
    "m = ensemble.RandomForestRegressor()\n",
    "m.fit(X_train, y_train)"
   ]
  },
  {
   "cell_type": "code",
   "execution_count": null,
   "metadata": {},
   "outputs": [],
   "source": [
    "yp = m.predict(X_test)\n",
    "plt.plot(y_test)\n",
    "plt.plot(yp)"
   ]
  },
  {
   "cell_type": "code",
   "execution_count": null,
   "metadata": {},
   "outputs": [],
   "source": [
    "a_hmr.plot(['power', 'vam'], xmode='seconds', overlay=True, xrange=[3333, 5000])"
   ]
  },
  {
   "cell_type": "code",
   "execution_count": null,
   "metadata": {},
   "outputs": [],
   "source": []
  }
 ],
 "metadata": {
  "kernelspec": {
   "display_name": "Python 3",
   "language": "python",
   "name": "python3"
  },
  "language_info": {
   "codemirror_mode": {
    "name": "ipython",
    "version": 3
   },
   "file_extension": ".py",
   "mimetype": "text/x-python",
   "name": "python",
   "nbconvert_exporter": "python",
   "pygments_lexer": "ipython3",
   "version": "3.6.5"
  }
 },
 "nbformat": 4,
 "nbformat_minor": 2
}
