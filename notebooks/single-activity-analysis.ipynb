{
 "cells": [
  {
   "cell_type": "code",
   "execution_count": null,
   "metadata": {},
   "outputs": [],
   "source": [
    "import os\n",
    "import re\n",
    "import sys\n",
    "import time\n",
    "import datetime\n",
    "import psycopg2\n",
    "import numpy as np\n",
    "import pandas as pd\n",
    "import seaborn as sns\n",
    "\n",
    "from scipy import stats\n",
    "import matplotlib as mpl\n",
    "from matplotlib import pyplot as plt"
   ]
  },
  {
   "cell_type": "code",
   "execution_count": null,
   "metadata": {},
   "outputs": [],
   "source": [
    "sys.path.insert(0, '../')\n",
    "import cypy2"
   ]
  },
  {
   "cell_type": "code",
   "execution_count": null,
   "metadata": {},
   "outputs": [],
   "source": [
    "from cycler import cycler\n",
    "red, blue, green, purple, orange, yellow, brown, pink, gray  = sns.color_palette('Set1')\n",
    "mpl.rcParams['axes.prop_cycle'] = cycler(color=[blue, orange, green, red, brown, gray])"
   ]
  },
  {
   "cell_type": "code",
   "execution_count": null,
   "metadata": {},
   "outputs": [],
   "source": [
    "%matplotlib \n",
    "%load_ext autoreload\n",
    "%autoreload 2"
   ]
  },
  {
   "cell_type": "code",
   "execution_count": null,
   "metadata": {},
   "outputs": [],
   "source": [
    "user = 'keith'\n",
    "host = 'localhost'\n",
    "dbname = 'cypy2'\n",
    "conn = psycopg2.connect(user=user, host=host, dbname=dbname)"
   ]
  },
  {
   "cell_type": "code",
   "execution_count": null,
   "metadata": {},
   "outputs": [],
   "source": [
    "# 2018 horseshoe meadows road\n",
    "a = cypy2.Activity.from_db(conn, '20180923163103')\n",
    "a.metadata"
   ]
  },
  {
   "cell_type": "code",
   "execution_count": null,
   "metadata": {},
   "outputs": [],
   "source": [
    "recs, recsp = a.records('raw'), a.records('proc')"
   ]
  },
  {
   "cell_type": "markdown",
   "metadata": {},
   "source": [
    "### Histograms of adjacent timepoints"
   ]
  },
  {
   "cell_type": "code",
   "execution_count": null,
   "metadata": {},
   "outputs": [],
   "source": [
    "offset = 1\n",
    "column = 'power'\n",
    "bins= {\n",
    "    'cadence': np.arange(60, 90, 1),\n",
    "    'power': np.arange(100, 300, 1),\n",
    "    'speed': np.arange(5, 15, .1),\n",
    "    'heart_rate': np.arange(120, 180, 1),\n",
    "}\n",
    "vals = recsp[column].values\n",
    "vals = vals[~np.isnan(vals)]\n",
    "h = plt.hist2d(vals[offset:], vals[:-offset], bins=bins[column])"
   ]
  },
  {
   "cell_type": "markdown",
   "metadata": {},
   "source": [
    "### Autocorrelation functions"
   ]
  },
  {
   "cell_type": "code",
   "execution_count": null,
   "metadata": {},
   "outputs": [],
   "source": [
    "def autocorr(x, max_offset, stepsize=1, drop_zeros=True):\n",
    "    \n",
    "    offsets = np.arange(1, max_offset, stepsize).astype(int)\n",
    "    \n",
    "    corrs = []\n",
    "    for offset in offsets:\n",
    "        vals = np.vstack((x[offset:], x[:-offset]))\n",
    "        \n",
    "        # drop nans\n",
    "        vals = vals[:, ~np.isnan(vals).any(axis=0)]\n",
    "        \n",
    "        if drop_zeros:\n",
    "            vals = vals[:, vals.all(axis=0)]\n",
    "        \n",
    "        cov = np.cov(vals[0, :], vals[1, :])\n",
    "        corrs.append(cov[0, 1] / np.sqrt(cov[0, 0] * cov[1, 1]))\n",
    "        \n",
    "    return offsets, corrs"
   ]
  },
  {
   "cell_type": "code",
   "execution_count": null,
   "metadata": {},
   "outputs": [],
   "source": [
    "for col in ['heart_rate', 'power', 'cadence', 'speed']:\n",
    "    plt.plot(*autocorr(recsp[col].values, 1000, 10, drop_zeros=True), marker='.', label=col)\n",
    "plt.legend()\n",
    "plt.gca().set_ylim([0, 1.1])"
   ]
  },
  {
   "cell_type": "markdown",
   "metadata": {},
   "source": [
    "### Autoregressive models"
   ]
  },
  {
   "cell_type": "code",
   "execution_count": null,
   "metadata": {},
   "outputs": [],
   "source": [
    "from sklearn import linear_model\n",
    "from sklearn import model_selection"
   ]
  },
  {
   "cell_type": "code",
   "execution_count": null,
   "metadata": {},
   "outputs": [],
   "source": [
    "wins = cypy2.utils.sliding_window(recs.power, 10, 10)\n",
    "wins = wins[~np.isnan(wins).any(axis=1), :]\n",
    "wins.shape"
   ]
  },
  {
   "cell_type": "code",
   "execution_count": null,
   "metadata": {},
   "outputs": [],
   "source": [
    "train, test = model_selection.train_test_split(wins, train_size=.8)"
   ]
  },
  {
   "cell_type": "code",
   "execution_count": null,
   "metadata": {},
   "outputs": [],
   "source": [
    "m = linear_model.LinearRegression()\n",
    "m.fit(train[:, :-1], train[:, -1])\n",
    "m.coef_"
   ]
  },
  {
   "cell_type": "code",
   "execution_count": null,
   "metadata": {},
   "outputs": [],
   "source": [
    "yp = m.predict(wins[:, :-1])\n",
    "plt.plot(wins[:, -1])\n",
    "plt.plot(yp)"
   ]
  },
  {
   "cell_type": "code",
   "execution_count": null,
   "metadata": {},
   "outputs": [],
   "source": []
  }
 ],
 "metadata": {
  "kernelspec": {
   "display_name": "Python 3",
   "language": "python",
   "name": "python3"
  },
  "language_info": {
   "codemirror_mode": {
    "name": "ipython",
    "version": 3
   },
   "file_extension": ".py",
   "mimetype": "text/x-python",
   "name": "python",
   "nbconvert_exporter": "python",
   "pygments_lexer": "ipython3",
   "version": "3.6.5"
  }
 },
 "nbformat": 4,
 "nbformat_minor": 2
}
